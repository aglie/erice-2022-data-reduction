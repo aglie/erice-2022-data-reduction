{
 "cells": [
  {
   "cell_type": "markdown",
   "id": "8b3e22c9-674d-4ab9-94e7-9ed147489a1a",
   "metadata": {},
   "source": [
    "# Exploring diffraction geometry using *mdx2* and *nexpy*\n",
    "\n",
    "This tutorial introduces running *mdx2* from the command line and viewing files with *nexpy*.\n",
    "\n",
    "We'll use `refined.expt` from the *dials* indexing tutorial.\n",
    "\n",
    "The result will be `geometry.nxs` which contains the symmetry operators and geometric correction factors.\n",
    "\n",
    "## Introduction\n",
    "\n",
    "### *mdx2*\n",
    "\n",
    "*mdx2* is a python package for processing macromolecular diffuse scattering data. It is open source and [available on GitHub](https://github.com/ando-lab/mdx2).  It shares authorship and general philosophy with the MATLAB library *mdx-lib* described in the following publication:\n",
    "\n",
    "> [Meisburger, S.P., Case, D.A. & Ando, N. Diffuse X-ray scattering from correlated motions in a protein crystal. Nat Commun 11, 1271 (2020).](https://doi.org/10.1038/s41467-020-14933-6)\n",
    "\n",
    "As of June 2022, *mdx2* is in the early stages of development. The goal is to replace the data reduction part of *mdx-lib*. Although many important features from *mdx-lib* have not yet been implemented, *mdx2* is already useful as a teaching tool and as a starting point for developing new methods.\n",
    "\n",
    "In this notebook we will mainly use *mdx2*'s command-line interface."
   ]
  },
  {
   "cell_type": "code",
   "execution_count": 1,
   "id": "111b0f63-f88c-43b7-b9b2-d0864dfea43b",
   "metadata": {},
   "outputs": [
    {
     "name": "stdout",
     "output_type": "stream",
     "text": [
      "mdx2: 0.0.0\n"
     ]
    }
   ],
   "source": [
    "!mdx2.version"
   ]
  },
  {
   "cell_type": "markdown",
   "id": "711428aa-01d1-4b9b-bc08-1aa08495dd93",
   "metadata": {},
   "source": [
    "For examples of using *mdx2* within python, see the [6_mdx2_python](6_mdx2_python.ipynb) tutorial."
   ]
  },
  {
   "cell_type": "markdown",
   "id": "26558fd7-2554-40b0-a5ce-cc0ff7b29d5e",
   "metadata": {},
   "source": [
    "### *nexpy*\n",
    "\n",
    "*mdx2* reads and writes data from [nexus files](https://www.nexusformat.org/). Nexus files are hdf5 files. They are combine data and metadata, and work with most programing languages including matlab and python. \n",
    "\n",
    "One advantage of this file format is that an excellent GUI has been developed by diffuse scatterers (Ray Osborn and others) called [nexpy](https://github.com/nexpy/nexpy). We'll used *nexpy* and the associated *nexusformat* python module extensively in this workshop.\n",
    "\n",
    "To launch *nexpy*, open a terminal window in jupyter lab, type `nexpy`, and hit enter.\n",
    "\n",
    "You'll see something like this:\n",
    "\n",
    "![NEXPY](resources/nexpy_window.png)"
   ]
  },
  {
   "cell_type": "markdown",
   "id": "dbeb17c6-d704-4d49-8df9-1739f7e35af4",
   "metadata": {},
   "source": [
    "### *python*\n",
    "\n",
    "Finally, the notebook needs to import some packages, which will mainly be used for plotting.\n",
    "\n",
    "Before doing anything else, click in the cell below and hit shift-enter"
   ]
  },
  {
   "cell_type": "code",
   "execution_count": 2,
   "id": "756ed74e-89ef-4c5e-b6dd-f37cf900dd31",
   "metadata": {},
   "outputs": [],
   "source": [
    "import numpy as np\n",
    "\n",
    "# for simple plotting\n",
    "import matplotlib.pyplot as plt\n",
    "\n",
    "# for displaying tables\n",
    "import pandas as pd\n",
    "\n",
    "# for loading nexus files as mdx2 objects\n",
    "from mdx2.utils import loadobj"
   ]
  },
  {
   "cell_type": "markdown",
   "id": "2016ef12-4157-4769-a132-f742a8be25a0",
   "metadata": {},
   "source": [
    "## Import the refined geometry from DIALS\n",
    "\n",
    "The first step is to convert the refined geometry we got from DIALS into the format expected by *mdx2*.\n",
    "\n",
    "The command for this is `mdx2.import_geometry`.\n",
    "\n",
    "### Getting help\n",
    "\n",
    "To see the list of command-line arguments, type the command followed by the `-h` or `--help` flag, as follows:"
   ]
  },
  {
   "cell_type": "code",
   "execution_count": 3,
   "id": "fc52ce96-797b-4b13-9a4e-d69a0658298c",
   "metadata": {
    "tags": []
   },
   "outputs": [
    {
     "name": "stdout",
     "output_type": "stream",
     "text": [
      "usage: mdx2.import_geometry [-h] [--sample_spacing PHI IY IX]\n",
      "                            [--outfile OUTFILE]\n",
      "                            expt\n",
      "\n",
      "Import experimental geometry using the dxtbx machinery\n",
      "\n",
      "positional arguments:\n",
      "  expt                  dials experiments file, such as refined.expt\n",
      "\n",
      "optional arguments:\n",
      "  -h, --help            show this help message and exit\n",
      "  --sample_spacing PHI IY IX\n",
      "                        inverval between samples in degrees or pixels\n",
      "                        (default: [1, 10, 10])\n",
      "  --outfile OUTFILE     name of the output NeXus file (default: geometry.nxs)\n"
     ]
    }
   ],
   "source": [
    "!mdx2.import_geometry --help"
   ]
  },
  {
   "cell_type": "markdown",
   "id": "de6d8fd8-e8c8-497f-aa09-462832542e7c",
   "metadata": {},
   "source": [
    "### Running the program\n",
    "\n",
    "Now, run *mdx2.import_geometry* on our experiments file from *DIALS*.\n",
    "\n",
    "This will produce a file called *geometry.nxs* (the .nxs extension means NeXus format)"
   ]
  },
  {
   "cell_type": "code",
   "execution_count": 4,
   "id": "95335aff-0ee7-42e2-a623-2da100a11d91",
   "metadata": {},
   "outputs": [
    {
     "name": "stdout",
     "output_type": "stream",
     "text": [
      "Computing miller index lookup grid\n",
      "Computing geometric correction factors\n",
      "Gathering space group info\n",
      "Gathering unit cell info\n",
      "Saving geometry to geometry.nxs\n",
      "Exporting <class 'mdx2.geometry.Crystal'> to nexus object\n",
      "  writing crystal to geometry.nxs\n",
      "Exporting <class 'mdx2.geometry.Symmetry'> to nexus object\n",
      "  writing symmetry to geometry.nxs\n",
      "Exporting <class 'mdx2.geometry.Corrections'> to nexus object\n",
      "  writing corrections to geometry.nxs\n",
      "Exporting <class 'mdx2.geometry.MillerIndex'> to nexus object\n",
      "  writing miller_index to geometry.nxs\n",
      "done!\n"
     ]
    }
   ],
   "source": [
    "!mdx2.import_geometry refined.expt"
   ]
  },
  {
   "cell_type": "markdown",
   "id": "7c9e0fec-db06-4cb0-9a55-a980db706851",
   "metadata": {},
   "source": [
    "### Viewing the NeXus file\n",
    "\n",
    "#### Tree view\n",
    "\n",
    "NeXus files are organized in a tree form. You can print the tree using `mdx2.tree`;"
   ]
  },
  {
   "cell_type": "code",
   "execution_count": 5,
   "id": "d7b71e35-589a-4143-b572-3da9944f5361",
   "metadata": {
    "scrolled": true,
    "tags": []
   },
   "outputs": [
    {
     "name": "stdout",
     "output_type": "stream",
     "text": [
      "geometry.nxs: root:NXroot\n",
      "  @HDF5_Version = '1.10.6'\n",
      "  @file_name = '/Users/steve/Documents/GitHub/ando-lab/erice-2...'\n",
      "  @file_time = '2022-05-30T12:28:47.899831'\n",
      "  @h5py_version = '3.3.0'\n",
      "  @nexusformat_version = '0.7.5'\n",
      "  entry:NXentry\n",
      "    corrections:NXgroup\n",
      "      @mdx2_class = 'Corrections'\n",
      "      @mdx2_module = 'mdx2.geometry'\n",
      "      attenuation:NXdata\n",
      "        @axes = ['iy', 'ix']\n",
      "        @signal = 'signal'\n",
      "        ix = float64(248)\n",
      "        iy = float64(254)\n",
      "        signal = float64(254x248)\n",
      "      d3s:NXdata\n",
      "        @axes = ['iy', 'ix']\n",
      "        @signal = 'signal'\n",
      "        ix = float64(248)\n",
      "        iy = float64(254)\n",
      "        signal = float64(254x248)\n",
      "      efficiency:NXdata\n",
      "        @axes = ['iy', 'ix']\n",
      "        @signal = 'signal'\n",
      "        ix = float64(248)\n",
      "        iy = float64(254)\n",
      "        signal = float64(254x248)\n",
      "      inverse_lorentz:NXdata\n",
      "        @axes = ['iy', 'ix']\n",
      "        @signal = 'signal'\n",
      "        ix = float64(248)\n",
      "        iy = float64(254)\n",
      "        signal = float64(254x248)\n",
      "      polarization:NXdata\n",
      "        @axes = ['iy', 'ix']\n",
      "        @signal = 'signal'\n",
      "        ix = float64(248)\n",
      "        iy = float64(254)\n",
      "        signal = float64(254x248)\n",
      "      solid_angle:NXdata\n",
      "        @axes = ['iy', 'ix']\n",
      "        @signal = 'signal'\n",
      "        ix = float64(248)\n",
      "        iy = float64(254)\n",
      "        signal = float64(254x248)\n",
      "    crystal:NXsample\n",
      "      @mdx2_class = 'Crystal'\n",
      "      @mdx2_module = 'mdx2.geometry'\n",
      "      orientation_matrix = float64(3x3)\n",
      "      space_group = 'I 21 3'\n",
      "      ub_matrix = float64(3x3)\n",
      "      unit_cell = float64(6)\n",
      "    miller_index:NXgroup\n",
      "      @mdx2_class = 'MillerIndex'\n",
      "      @mdx2_module = 'mdx2.geometry'\n",
      "      h:NXdata\n",
      "        @axes = ['phi', 'iy', 'ix']\n",
      "        @signal = 'signal'\n",
      "        ix = float64(248)\n",
      "        iy = float64(254)\n",
      "        phi = float64(51)\n",
      "          @units = 'degree'\n",
      "        signal = float64(51x254x248)\n",
      "      k:NXdata\n",
      "        @axes = ['phi', 'iy', 'ix']\n",
      "        @signal = 'signal'\n",
      "        ix = float64(248)\n",
      "        iy = float64(254)\n",
      "        phi = float64(51)\n",
      "          @units = 'degree'\n",
      "        signal = float64(51x254x248)\n",
      "      l:NXdata\n",
      "        @axes = ['phi', 'iy', 'ix']\n",
      "        @signal = 'signal'\n",
      "        ix = float64(248)\n",
      "        iy = float64(254)\n",
      "        phi = float64(51)\n",
      "          @units = 'degree'\n",
      "        signal = float64(51x254x248)\n",
      "    symmetry:NXgroup\n",
      "      @mdx2_class = 'Symmetry'\n",
      "      @mdx2_module = 'mdx2.geometry'\n",
      "      crystal_system = 'Cubic'\n",
      "      laue_group_number = 200\n",
      "      laue_group_operators = float64(24x3x3)\n",
      "      laue_group_symbol = 'm-3'\n",
      "      reciprocal_space_asu = 'h>=0 and ((l>=h and k>h) or (l==h and k==h))'\n",
      "      space_group_number = 199\n",
      "      space_group_operators = float64(24x3x4)\n",
      "      space_group_symbol = 'I 21 3'\n"
     ]
    }
   ],
   "source": [
    "!mdx2.tree geometry.nxs"
   ]
  },
  {
   "cell_type": "markdown",
   "id": "0a65a498-f9d9-45f0-a03b-8a58d0a9f87d",
   "metadata": {},
   "source": [
    "You can find some interesting metadata.\n",
    "\n",
    "Find the `symmetry:NXgroup` in the tree above.\n",
    "\n",
    "<div class=\"alert alert-block alert-info\"> \n",
    "    <b>Questions:</b> What is the space group? What is the Laue group? How many operators are there in each? Why are space group operators stored as 3x4 matrices and Laue group operators stored as 3x3 matrices?\n",
    "</div>"
   ]
  },
  {
   "cell_type": "markdown",
   "id": "f012a0be-02c4-49a9-bba4-ff6a4df7426a",
   "metadata": {},
   "source": [
    "#### Viewing in python\n",
    "\n",
    "We'll use *matplotlib* and the *mdx2* program loadobj to view a geometric correction"
   ]
  },
  {
   "cell_type": "code",
   "execution_count": 3,
   "id": "93c97ad9-a82f-4f04-a2fc-5ba677d20cbb",
   "metadata": {},
   "outputs": [
    {
     "name": "stdout",
     "output_type": "stream",
     "text": [
      "Reading corrections from geometry.nxs\n",
      "  importing as Corrections from mdx2.geometry\n"
     ]
    }
   ],
   "source": [
    "# load correction factors (solid_angle, polarization, attenuation, efficiency, ...)\n",
    "corrections = loadobj('geometry.nxs','corrections')"
   ]
  },
  {
   "cell_type": "code",
   "execution_count": 4,
   "id": "def1a50d-e660-463c-854d-df4caebfa03d",
   "metadata": {},
   "outputs": [
    {
     "data": {
      "image/png": "[encoded data removed]",
      "text/plain": [
       "<Figure size 432x288 with 1 Axes>"
      ]
     },
     "metadata": {
      "needs_background": "light"
     },
     "output_type": "display_data"
    }
   ],
   "source": [
    "# Plot solid angle per pixel, for example\n",
    "ax = plt.imshow(corrections.solid_angle,extent=[0,1,1,0])"
   ]
  },
  {
   "cell_type": "markdown",
   "id": "7627c30e-d58b-4efd-bbbd-e90baef228e9",
   "metadata": {},
   "source": [
    "#### Viewing in *nexpy*\n",
    "\n",
    "- Open a terminal window and type `nexpy`\n",
    "- Click `File > open`, navigate to your working directory\n",
    "- Open `geometry.nxs`\n",
    "- Expand the tree in the left panel to locate `solid_angle`.\n",
    "- Double-click it to plot.\n",
    "\n",
    "The result should look like this:\n",
    "\n",
    "![NEXPY](resources/nexpy_solid_angle.png)\n",
    "\n",
    "Take some time to browse through the corrections. Here are some questions to think about:\n",
    "\n",
    "\n",
    "<div class=\"alert alert-block alert-info\"> \n",
    "    <b>Question 1:</b> Find the efficiency correction and plot it. The data were collected using a Pilatus detector, which as a 1 mm thick Si sensor for detecting X-rays. How does the efficiency compare between the center and edge of the detector? Why might that be?\n",
    "</div>\n",
    "\n",
    "<div class=\"alert alert-block alert-info\"> \n",
    "    <b>Question 2:</b> Find the polarization correction and plot it. Was this data collected on a synchrotron or a home source?\n",
    "</div>\n",
    "\n",
    "<div class=\"alert alert-block alert-info\"> \n",
    "    <b>Question 3:</b> ind the d3s correction and plot it. This is the volume in reciprocal space swept by a detector pixel during an exposure. Was the spindle axis horizontal or vertical?\n",
    "</div>"
   ]
  },
  {
   "cell_type": "code",
   "execution_count": null,
   "id": "3e6b2664-ea2a-4245-83da-20514c20ef5b",
   "metadata": {},
   "outputs": [],
   "source": []
  }
 ],
 "metadata": {
  "kernelspec": {
   "display_name": "Python 3 (ipykernel)",
   "language": "python",
   "name": "python3"
  },
  "language_info": {
   "codemirror_mode": {
    "name": "ipython",
    "version": 3
   },
   "file_extension": ".py",
   "mimetype": "text/x-python",
   "name": "python",
   "nbconvert_exporter": "python",
   "pygments_lexer": "ipython3",
   "version": "3.9.12"
  }
 },
 "nbformat": 4,
 "nbformat_minor": 5
}
