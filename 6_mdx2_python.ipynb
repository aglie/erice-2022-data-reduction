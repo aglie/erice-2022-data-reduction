{
 "cells": [
  {
   "cell_type": "markdown",
   "id": "a5a08540-1209-4aa6-8e54-f696be004e7d",
   "metadata": {},
   "source": [
    "# Using *mdx2* in python (advanced)\n",
    "\n",
    "### Imports"
   ]
  },
  {
   "cell_type": "code",
   "execution_count": 4,
   "id": "0fa59c92-b8c7-4658-a7b0-6ee9e39b34e9",
   "metadata": {},
   "outputs": [],
   "source": [
    "# for loading mdx2 objects in python\n",
    "from mdx2.utils import loadobj\n",
    "\n",
    "# for calculating statistics\n",
    "import numpy as np\n",
    "import pandas as pd"
   ]
  },
  {
   "cell_type": "markdown",
   "id": "5f300d63-6042-4819-be47-ce325d62e298",
   "metadata": {},
   "source": [
    "## Intensity statistics\n",
    "\n",
    "### Intensity vs. resolution\n",
    "\n",
    "Load the corrected, unmerged data"
   ]
  },
  {
   "cell_type": "code",
   "execution_count": 5,
   "id": "f3b2b64d-9911-43b1-a011-fdd9d551dada",
   "metadata": {},
   "outputs": [
    {
     "name": "stdout",
     "output_type": "stream",
     "text": [
      "Reading hkl_table from corrected.nxs\n",
      "  importing as HKLTable from mdx2.data\n"
     ]
    },
    {
     "data": {
      "text/html": [
       "<div>\n",
       "<style scoped>\n",
       "    .dataframe tbody tr th:only-of-type {\n",
       "        vertical-align: middle;\n",
       "    }\n",
       "\n",
       "    .dataframe tbody tr th {\n",
       "        vertical-align: top;\n",
       "    }\n",
       "\n",
       "    .dataframe thead th {\n",
       "        text-align: right;\n",
       "    }\n",
       "</style>\n",
       "<table border=\"1\" class=\"dataframe\">\n",
       "  <thead>\n",
       "    <tr style=\"text-align: right;\">\n",
       "      <th></th>\n",
       "      <th></th>\n",
       "      <th></th>\n",
       "      <th></th>\n",
       "      <th></th>\n",
       "      <th>intensity</th>\n",
       "      <th>intensity_error</th>\n",
       "      <th>ix</th>\n",
       "      <th>iy</th>\n",
       "      <th>phi</th>\n",
       "      <th>rs_volume</th>\n",
       "      <th>s</th>\n",
       "    </tr>\n",
       "    <tr>\n",
       "      <th>h</th>\n",
       "      <th>k</th>\n",
       "      <th>l</th>\n",
       "      <th>op</th>\n",
       "      <th>n</th>\n",
       "      <th></th>\n",
       "      <th></th>\n",
       "      <th></th>\n",
       "      <th></th>\n",
       "      <th></th>\n",
       "      <th></th>\n",
       "      <th></th>\n",
       "    </tr>\n",
       "  </thead>\n",
       "  <tbody>\n",
       "    <tr>\n",
       "      <th rowspan=\"5\" valign=\"top\">0.0</th>\n",
       "      <th rowspan=\"5\" valign=\"top\">0.25</th>\n",
       "      <th>2.75</th>\n",
       "      <th>10</th>\n",
       "      <th>0</th>\n",
       "      <td>NaN</td>\n",
       "      <td>3458472.25</td>\n",
       "      <td>1222.937500</td>\n",
       "      <td>1211.979126</td>\n",
       "      <td>165.493744</td>\n",
       "      <td>0.000405</td>\n",
       "      <td>0.034724</td>\n",
       "    </tr>\n",
       "    <tr>\n",
       "      <th>3.00</th>\n",
       "      <th>10</th>\n",
       "      <th>0</th>\n",
       "      <td>NaN</td>\n",
       "      <td>4526965.50</td>\n",
       "      <td>1220.806396</td>\n",
       "      <td>1210.483887</td>\n",
       "      <td>165.672577</td>\n",
       "      <td>0.000274</td>\n",
       "      <td>0.037856</td>\n",
       "    </tr>\n",
       "    <tr>\n",
       "      <th>3.25</th>\n",
       "      <th>10</th>\n",
       "      <th>0</th>\n",
       "      <td>38040624.0</td>\n",
       "      <td>19222264.00</td>\n",
       "      <td>1218.000000</td>\n",
       "      <td>1209.000000</td>\n",
       "      <td>165.800003</td>\n",
       "      <td>0.000037</td>\n",
       "      <td>0.040990</td>\n",
       "    </tr>\n",
       "    <tr>\n",
       "      <th>19.75</th>\n",
       "      <th>10</th>\n",
       "      <th>0</th>\n",
       "      <td>55826468.0</td>\n",
       "      <td>25134906.00</td>\n",
       "      <td>958.000000</td>\n",
       "      <td>1023.750000</td>\n",
       "      <td>165.949997</td>\n",
       "      <td>0.000209</td>\n",
       "      <td>0.248377</td>\n",
       "    </tr>\n",
       "    <tr>\n",
       "      <th>20.00</th>\n",
       "      <th>10</th>\n",
       "      <th>0</th>\n",
       "      <td>54929968.0</td>\n",
       "      <td>11178633.00</td>\n",
       "      <td>954.549988</td>\n",
       "      <td>1021.049988</td>\n",
       "      <td>165.904999</td>\n",
       "      <td>0.001056</td>\n",
       "      <td>0.251520</td>\n",
       "    </tr>\n",
       "  </tbody>\n",
       "</table>\n",
       "</div>"
      ],
      "text/plain": [
       "                      intensity  intensity_error           ix           iy  \\\n",
       "h   k    l     op n                                                          \n",
       "0.0 0.25 2.75  10 0         NaN       3458472.25  1222.937500  1211.979126   \n",
       "         3.00  10 0         NaN       4526965.50  1220.806396  1210.483887   \n",
       "         3.25  10 0  38040624.0      19222264.00  1218.000000  1209.000000   \n",
       "         19.75 10 0  55826468.0      25134906.00   958.000000  1023.750000   \n",
       "         20.00 10 0  54929968.0      11178633.00   954.549988  1021.049988   \n",
       "\n",
       "                            phi  rs_volume         s  \n",
       "h   k    l     op n                                   \n",
       "0.0 0.25 2.75  10 0  165.493744   0.000405  0.034724  \n",
       "         3.00  10 0  165.672577   0.000274  0.037856  \n",
       "         3.25  10 0  165.800003   0.000037  0.040990  \n",
       "         19.75 10 0  165.949997   0.000209  0.248377  \n",
       "         20.00 10 0  165.904999   0.001056  0.251520  "
      ]
     },
     "execution_count": 5,
     "metadata": {},
     "output_type": "execute_result"
    }
   ],
   "source": [
    "# load table as mdx2 object\n",
    "tab = loadobj('corrected.nxs','hkl_table')\n",
    "\n",
    "# convert to pandas DataFrame\n",
    "df = tab.to_frame().set_index(['h','k','l','op','n']).sort_index()\n",
    "\n",
    "# show the first several rows\n",
    "df.head()"
   ]
  },
  {
   "cell_type": "markdown",
   "id": "8269163e-8807-4d7a-8186-a86731cbc266",
   "metadata": {},
   "source": [
    "Plot the mean and standard deviation of intensity vs. s"
   ]
  },
  {
   "cell_type": "code",
   "execution_count": 14,
   "id": "8624a8a7-60d0-458d-8ed7-ac466264db32",
   "metadata": {},
   "outputs": [
    {
     "data": {
      "image/png": "[encoded data removed]",
      "text/plain": [
       "<Figure size 432x288 with 1 Axes>"
      ]
     },
     "metadata": {
      "needs_background": "light"
     },
     "output_type": "display_data"
    }
   ],
   "source": [
    "# divide into 100 equal sized bins\n",
    "s_bins = pd.cut(df['s'],100)\n",
    "\n",
    "# compute statistics in each bin\n",
    "df_isoavg = df.groupby(s_bins).agg({\n",
    "    's':'mean',\n",
    "    'intensity':['mean','std'],\n",
    "    'intensity_error':'mean'})\n",
    "\n",
    "# plot statistics vs. s\n",
    "df_isoavg.set_index(('s','mean')).plot();"
   ]
  },
  {
   "cell_type": "code",
   "execution_count": null,
   "id": "d4080b51-60e8-452f-872c-c11c85a0130a",
   "metadata": {},
   "outputs": [],
   "source": []
  }
 ],
 "metadata": {
  "kernelspec": {
   "display_name": "Python 3 (ipykernel)",
   "language": "python",
   "name": "python3"
  },
  "language_info": {
   "codemirror_mode": {
    "name": "ipython",
    "version": 3
   },
   "file_extension": ".py",
   "mimetype": "text/x-python",
   "name": "python",
   "nbconvert_exporter": "python",
   "pygments_lexer": "ipython3",
   "version": "3.9.12"
  }
 },
 "nbformat": 4,
 "nbformat_minor": 5
}
