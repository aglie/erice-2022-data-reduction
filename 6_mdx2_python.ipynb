{
 "cells": [
  {
   "cell_type": "markdown",
   "id": "a5a08540-1209-4aa6-8e54-f696be004e7d",
   "metadata": {},
   "source": [
    "# Using *mdx2* in python (advanced)\n",
    "\n",
    "In this tutorial, we will:\n",
    "\n",
    "- Do some matrix math with Miller indices and symmetry operators\n",
    "- Compute intensity statistics using *pandas*\n",
    "\n",
    "Requirements:\n",
    "- `geometry.nxs` from the *mdx2* geometry tutorial\n",
    "- `corrected.nxs` from the *mdx2* integration tutorial\n",
    "\n",
    "Run these imports first:"
   ]
  },
  {
   "cell_type": "code",
   "execution_count": 1,
   "id": "0fa59c92-b8c7-4658-a7b0-6ee9e39b34e9",
   "metadata": {},
   "outputs": [],
   "source": [
    "# for loading mdx2 objects in python\n",
    "from mdx2.utils import loadobj, saveobj\n",
    "\n",
    "# for creating mdx2 tables\n",
    "from mdx2.data import HKLTable\n",
    "\n",
    "# for calculating statistics\n",
    "import numpy as np\n",
    "import pandas as pd\n",
    "\n",
    "# for making plots\n",
    "import matplotlib.pyplot as plt"
   ]
  },
  {
   "cell_type": "markdown",
   "id": "61279dd0-ec1d-4038-9c91-fae4e01ebc34",
   "metadata": {},
   "source": [
    "## 1) Geometry (*numpy* and *matplotlib*)"
   ]
  },
  {
   "cell_type": "markdown",
   "id": "7fdf9af2-9219-49d8-945a-9a453797e717",
   "metadata": {
    "tags": []
   },
   "source": [
    "### The Miller index array\n",
    "\n",
    "The scan-varying model refined by DIALS is not imported explicitly. Instead, `mdx2.import_geometry` stores 3D arrays of Miller indices (h,k,l). When `mdx2` creates a reciprocal space map (`mdx2.integrate`), these arrays are interpolated at each pixel position and phi angle. The advantage is that, after importing, `mdx2` does not need to know the details of the diffraction geometry. The code is mostly matrix math written in numpy.\n",
    "\n",
    "Let's play with the Miller index arrays."
   ]
  },
  {
   "cell_type": "code",
   "execution_count": 2,
   "id": "e42f2cd7-55e1-4bde-b8a9-a4ef8d625b3e",
   "metadata": {},
   "outputs": [
    {
     "name": "stdout",
     "output_type": "stream",
     "text": [
      "Reading miller_index from geometry.nxs\n",
      "  importing as MillerIndex from mdx2.geometry\n"
     ]
    },
    {
     "data": {
      "image/png": "[encoded data removed]",
      "text/plain": [
       "<Figure size 432x288 with 1 Axes>"
      ]
     },
     "metadata": {
      "needs_background": "light"
     },
     "output_type": "display_data"
    }
   ],
   "source": [
    "# load the miller index maps\n",
    "\n",
    "mi = loadobj('geometry.nxs','miller_index')\n",
    "\n",
    "ax = plt.imshow(mi.h[0,:,:],extent=[0,1,1,0])"
   ]
  },
  {
   "cell_type": "markdown",
   "id": "18755f00-b1da-449f-bae3-e62cd9390fa1",
   "metadata": {},
   "source": [
    "The Miller index arrays are three dimensional, with axes of phi, iy, ix (phi in units of degrees, ix, iy in units of pixels)"
   ]
  },
  {
   "cell_type": "code",
   "execution_count": 3,
   "id": "a7eb4214-aa49-475b-99a4-935389abef35",
   "metadata": {},
   "outputs": [
    {
     "name": "stdout",
     "output_type": "stream",
     "text": [
      "(51, 254, 248)\n"
     ]
    }
   ],
   "source": [
    "print(mi.h.shape)"
   ]
  },
  {
   "cell_type": "markdown",
   "id": "f619c7a3-4a02-43c7-a7b7-2a665a98251c",
   "metadata": {},
   "source": [
    "The Miller indices are related to the cartesian reciprocal space vector s, in the crystal frame. The DIALS documentation [has a nice discussion](https://dials.github.io/documentation/conventions.html) of diffraction geometry conventions. In their notation,\n",
    "\n",
    "$$s = \\mathbf{U}\\mathbf{B}h$$\n",
    "\n",
    "The $\\mathbf{B}$ matrix is computed from the unit cell parameters, and $\\mathbf{U}$ is a rotation matrix that sets the crystal orientation (e.g. at $\\phi$ = 0).\n",
    "\n",
    "In `geometry.nxs`, the product UB is stored."
   ]
  },
  {
   "cell_type": "code",
   "execution_count": 4,
   "id": "06e9efb9-98e0-4d45-92af-c49a0ad8ea24",
   "metadata": {},
   "outputs": [
    {
     "name": "stdout",
     "output_type": "stream",
     "text": [
      "Reading crystal from geometry.nxs\n",
      "  importing as Crystal from mdx2.geometry\n",
      "\n",
      "UB =\n",
      " [[ 1.016778e-02 -7.262650e-03  1.414809e-03]\n",
      " [ 7.399074e-03  9.992527e-03 -1.880049e-03]\n",
      " [-3.843924e-05  2.352614e-03  1.235294e-02]]\n"
     ]
    }
   ],
   "source": [
    "crystal = loadobj('geometry.nxs','crystal')\n",
    "UB = crystal.ub_matrix\n",
    "\n",
    "print('\\nUB =\\n',UB)"
   ]
  },
  {
   "cell_type": "markdown",
   "id": "83222001-34d0-4505-a1ec-edbd47f88578",
   "metadata": {},
   "source": [
    "The unit cell volume can be computed easily from UB:\n",
    "\n",
    "$$\\text{cell volume} = \\det{(\\mathbf{B}^{-1})} = (\\det{\\mathbf{B}})^{-1} = (\\det{\\mathbf{UB}})^{-1} $$\n",
    "\n",
    "($\\mathbf{U}$ is a pure rotation, so $\\det{\\mathbf{U}} = 1$)"
   ]
  },
  {
   "cell_type": "code",
   "execution_count": 5,
   "id": "8cf047b5-a4e7-495c-8687-171e916b6c7b",
   "metadata": {},
   "outputs": [
    {
     "name": "stdout",
     "output_type": "stream",
     "text": [
      "cell volume = 502889.4673226033\n"
     ]
    }
   ],
   "source": [
    "print('cell volume =',1/np.linalg.det(UB))"
   ]
  },
  {
   "cell_type": "markdown",
   "id": "97058ed2-f140-401f-881c-97820a359536",
   "metadata": {},
   "source": [
    "The unit cell parameters and U matrix are also stored. These are redundant with the UB matrix, but are stored for record-keeping purposes:"
   ]
  },
  {
   "cell_type": "code",
   "execution_count": 6,
   "id": "6da094e1-d655-4549-90b6-77f24af41faf",
   "metadata": {},
   "outputs": [
    {
     "name": "stdout",
     "output_type": "stream",
     "text": [
      "a = 79.5226504726875\n",
      "b = 79.5226504726875\n",
      "c = 79.5226504726875\n",
      "alpha = 90.00000000000001\n",
      "beta = 90.0\n",
      "gamma = 90.0\n",
      "U = \n",
      " [[ 0.808569 -0.577545  0.112509]\n",
      " [ 0.588394  0.794632 -0.149507]\n",
      " [-0.003057  0.187086  0.982339]]\n"
     ]
    }
   ],
   "source": [
    "a,b,c,alpha,beta,gamma = crystal.unit_cell\n",
    "U = crystal.orientation_matrix\n",
    "print('a =',a)\n",
    "print('b =',b)\n",
    "print('c =',c)\n",
    "print('alpha =',alpha)\n",
    "print('beta =',beta)\n",
    "print('gamma =',gamma)\n",
    "print('U = \\n',U)"
   ]
  },
  {
   "cell_type": "markdown",
   "id": "fecd47a2-2333-4dc4-ba5d-b95d3cdf0622",
   "metadata": {},
   "source": [
    "We can also calculate cell volume from the unit cell parameters. How does this compare with what we calculated from UB, above?"
   ]
  },
  {
   "cell_type": "code",
   "execution_count": 7,
   "id": "5ebca442-c81d-47cb-822e-5f027b614e95",
   "metadata": {},
   "outputs": [
    {
     "name": "stdout",
     "output_type": "stream",
     "text": [
      "cell volume = 502889.46732260345\n"
     ]
    }
   ],
   "source": [
    "print('cell volume =',a*b*c) # easy since all angles are 90 degrees"
   ]
  },
  {
   "cell_type": "markdown",
   "id": "2cf2896b-b3b7-4d17-8759-18053d5dd06f",
   "metadata": {
    "tags": []
   },
   "source": [
    "### Matrix math with Miller indices\n",
    "\n",
    "Let's compute the scattering vector magnitude across the detector face using $s = \\mathbf{UB}h$."
   ]
  },
  {
   "cell_type": "code",
   "execution_count": 8,
   "id": "e2358c4d-e5cc-4e55-a515-9a6d85beaeb8",
   "metadata": {},
   "outputs": [
    {
     "data": {
      "text/plain": [
       "<matplotlib.colorbar.Colorbar at 0x1587e5b80>"
      ]
     },
     "execution_count": 8,
     "metadata": {},
     "output_type": "execute_result"
    },
    {
     "data": {
      "image/png": "[encoded data removed]",
      "text/plain": [
       "<Figure size 432x288 with 2 Axes>"
      ]
     },
     "metadata": {
      "needs_background": "light"
     },
     "output_type": "display_data"
    }
   ],
   "source": [
    "# example of computing the scattering vector magnitude for a particular frame\n",
    "h = mi.h[0,:,:]\n",
    "k = mi.k[0,:,:]\n",
    "l = mi.l[0,:,:]\n",
    "svec = np.tensordot(UB,np.stack((h,k,l)),axes=1) # s = UBh\n",
    "s = np.sqrt(np.sum(svec**2,axis=0))\n",
    "\n",
    "# plot of scattering vector magnitude on detector surface\n",
    "plt.imshow(s,extent=[0,1,1,0])\n",
    "plt.colorbar(label='Scattering vector magnitude (1/Å)')"
   ]
  },
  {
   "cell_type": "markdown",
   "id": "a79c7578-b221-4ec4-8af0-9aacbc9ae50b",
   "metadata": {},
   "source": [
    "The resolution is $1/|s|$. Let's calculate the maximum resolution (at detector corner)"
   ]
  },
  {
   "cell_type": "code",
   "execution_count": 9,
   "id": "49a8bad7-9ff6-4ca6-b0c2-5781a34d20fa",
   "metadata": {},
   "outputs": [
    {
     "name": "stdout",
     "output_type": "stream",
     "text": [
      "The maximum resolution is 1.16 Å\n"
     ]
    }
   ],
   "source": [
    "print(f'The maximum resolution is {1/np.max(s):.2f} Å')"
   ]
  },
  {
   "cell_type": "markdown",
   "id": "7bd2873a-aaf9-4502-b5b0-fc52dd17afc1",
   "metadata": {},
   "source": [
    "We can use a contour plot to draw resolution rings on the surface of the detector."
   ]
  },
  {
   "cell_type": "code",
   "execution_count": 10,
   "id": "21d04f64-fb7f-4f8a-9ee2-408aaeb27bdf",
   "metadata": {},
   "outputs": [
    {
     "data": {
      "image/png": "[encoded data removed]",
      "text/plain": [
       "<Figure size 432x288 with 1 Axes>"
      ]
     },
     "metadata": {
      "needs_background": "light"
     },
     "output_type": "display_data"
    }
   ],
   "source": [
    "fig, ax = plt.subplots()\n",
    "[X,Y] = np.meshgrid(mi.ix,mi.iy)\n",
    "levels = [1.3,1.5,1.8,2.5,5,10]\n",
    "CS = ax.contour(X,Y,1/s,levels, colors='k')\n",
    "ax.clabel(CS, inline=True, fontsize=10)\n",
    "ax.set_aspect('equal')"
   ]
  },
  {
   "cell_type": "markdown",
   "id": "df2e96eb-32cf-4312-bdd3-3ff19b08ce41",
   "metadata": {},
   "source": [
    "Where does the s vector lie in reciprocal space? On the Ewald sphere of course!"
   ]
  },
  {
   "cell_type": "code",
   "execution_count": 11,
   "id": "eaa357c1-6056-4024-9213-96e091212da5",
   "metadata": {},
   "outputs": [
    {
     "data": {
      "image/png": "[encoded data removed]",
      "text/plain": [
       "<Figure size 432x288 with 1 Axes>"
      ]
     },
     "metadata": {
      "needs_background": "light"
     },
     "output_type": "display_data"
    }
   ],
   "source": [
    "fig = plt.figure()\n",
    "ax = fig.add_subplot(projection='3d')\n",
    "ns = 20 # number of points to skip\n",
    "ax.scatter(svec[0,::ns,::ns], svec[1,::ns,::ns], svec[2,::ns,::ns], marker='.')\n",
    "ax.set_xlabel('S0')\n",
    "ax.set_ylabel('S1')\n",
    "ax.set_zlabel('S2')\n",
    "plt.show()"
   ]
  },
  {
   "cell_type": "markdown",
   "id": "a4663723-52b1-4c9a-b373-0f6af7fda47c",
   "metadata": {},
   "source": [
    "### Symmetry"
   ]
  },
  {
   "cell_type": "markdown",
   "id": "8c97fe87-60de-4f4d-9cf9-6e32945228f4",
   "metadata": {},
   "source": [
    "Space group information is stored in the `/entry/symmetry` group of `geometry.nxs`"
   ]
  },
  {
   "cell_type": "code",
   "execution_count": 12,
   "id": "f3630917-c54b-4192-aa8b-9c41b56e7638",
   "metadata": {},
   "outputs": [
    {
     "name": "stdout",
     "output_type": "stream",
     "text": [
      "Reading symmetry from geometry.nxs\n",
      "  importing as Symmetry from mdx2.geometry\n"
     ]
    }
   ],
   "source": [
    "symm = loadobj('geometry.nxs','symmetry')"
   ]
  },
  {
   "cell_type": "markdown",
   "id": "37244726-1439-45a0-a418-a71e1ee0f852",
   "metadata": {},
   "source": [
    "The symmetry of the reciprocal space intensities is that of the Laue group (*m-3*). In *mdx2*, the Laue group operators are stored explicitly as 3x3 rotation matrices. For example:"
   ]
  },
  {
   "cell_type": "code",
   "execution_count": 13,
   "id": "35bd9de6-4bcc-40bd-a235-4932f881f009",
   "metadata": {},
   "outputs": [
    {
     "name": "stdout",
     "output_type": "stream",
     "text": [
      "[[ 0. -1.  0.]\n",
      " [ 0.  0.  1.]\n",
      " [-1.  0.  0.]]\n"
     ]
    }
   ],
   "source": [
    "op_index = 10 # there are 24 operators (index 0 to 23)\n",
    "op = symm.laue_group_operators[op_index,:,:]\n",
    "print(op)"
   ]
  },
  {
   "cell_type": "markdown",
   "id": "200f3917-b612-4cb1-ae63-d0bb4f10d7c7",
   "metadata": {},
   "source": [
    "The symmetry operators act on Miller indices according to rules of matrix multiplication"
   ]
  },
  {
   "cell_type": "code",
   "execution_count": 14,
   "id": "fbed5e9e-fefb-4c85-bbee-c6bf7c69277e",
   "metadata": {},
   "outputs": [
    {
     "name": "stdout",
     "output_type": "stream",
     "text": [
      "[-3.  2. -4.]\n"
     ]
    }
   ],
   "source": [
    "hkl = [4,3,2]\n",
    "print(op @ hkl) # @ means matrix multiply"
   ]
  },
  {
   "cell_type": "markdown",
   "id": "9be0ccf7-90fe-4df8-814e-d80bed020bc2",
   "metadata": {},
   "source": [
    "### Symmetry calculations"
   ]
  },
  {
   "cell_type": "markdown",
   "id": "9a92a150-1628-4bb3-8801-179cc1e3a49c",
   "metadata": {},
   "source": [
    "The reciprocal space asymmetric unit for Laue group *m-3* is defined as the following set of conditions:"
   ]
  },
  {
   "cell_type": "code",
   "execution_count": 15,
   "id": "2a2eba20-33e8-4cb2-b69d-7c0a8f67fdfe",
   "metadata": {
    "tags": []
   },
   "outputs": [
    {
     "name": "stdout",
     "output_type": "stream",
     "text": [
      "h>=0 and ((l>=h and k>h) or (l==h and k==h))\n"
     ]
    }
   ],
   "source": [
    "print(symm.reciprocal_space_asu)"
   ]
  },
  {
   "cell_type": "markdown",
   "id": "0456ac2b-9993-4914-808c-f8c0cf07e378",
   "metadata": {},
   "source": [
    "*mdx2* objects can use this information to do further symmetry calculations."
   ]
  },
  {
   "cell_type": "code",
   "execution_count": 16,
   "id": "3cbef816-f095-41b0-9db3-889435822f0d",
   "metadata": {},
   "outputs": [
    {
     "data": {
      "text/plain": [
       "mdx2.geometry.Symmetry"
      ]
     },
     "execution_count": 16,
     "metadata": {},
     "output_type": "execute_result"
    }
   ],
   "source": [
    "type(symm)"
   ]
  },
  {
   "cell_type": "markdown",
   "id": "4562fe56-9448-4dba-84ef-154c4992e179",
   "metadata": {},
   "source": [
    "We can use the `to_asu` function to map arbitrary h,k,l points into the asymmetric unit"
   ]
  },
  {
   "cell_type": "code",
   "execution_count": 17,
   "id": "4d9f5ae0-eaee-4d43-bd56-5890ea74a573",
   "metadata": {
    "scrolled": true,
    "tags": []
   },
   "outputs": [
    {
     "data": {
      "text/html": [
       "<div>\n",
       "<style scoped>\n",
       "    .dataframe tbody tr th:only-of-type {\n",
       "        vertical-align: middle;\n",
       "    }\n",
       "\n",
       "    .dataframe tbody tr th {\n",
       "        vertical-align: top;\n",
       "    }\n",
       "\n",
       "    .dataframe thead th {\n",
       "        text-align: right;\n",
       "    }\n",
       "</style>\n",
       "<table border=\"1\" class=\"dataframe\">\n",
       "  <thead>\n",
       "    <tr style=\"text-align: right;\">\n",
       "      <th></th>\n",
       "      <th>h</th>\n",
       "      <th>k</th>\n",
       "      <th>l</th>\n",
       "      <th>h_asu</th>\n",
       "      <th>k_asu</th>\n",
       "      <th>l_asu</th>\n",
       "      <th>op</th>\n",
       "    </tr>\n",
       "  </thead>\n",
       "  <tbody>\n",
       "    <tr>\n",
       "      <th>0</th>\n",
       "      <td>-1</td>\n",
       "      <td>-1</td>\n",
       "      <td>-1</td>\n",
       "      <td>1</td>\n",
       "      <td>1</td>\n",
       "      <td>1</td>\n",
       "      <td>12</td>\n",
       "    </tr>\n",
       "    <tr>\n",
       "      <th>1</th>\n",
       "      <td>-1</td>\n",
       "      <td>-1</td>\n",
       "      <td>0</td>\n",
       "      <td>0</td>\n",
       "      <td>1</td>\n",
       "      <td>1</td>\n",
       "      <td>6</td>\n",
       "    </tr>\n",
       "    <tr>\n",
       "      <th>2</th>\n",
       "      <td>-1</td>\n",
       "      <td>-1</td>\n",
       "      <td>1</td>\n",
       "      <td>1</td>\n",
       "      <td>1</td>\n",
       "      <td>1</td>\n",
       "      <td>6</td>\n",
       "    </tr>\n",
       "    <tr>\n",
       "      <th>3</th>\n",
       "      <td>0</td>\n",
       "      <td>-1</td>\n",
       "      <td>-1</td>\n",
       "      <td>0</td>\n",
       "      <td>1</td>\n",
       "      <td>1</td>\n",
       "      <td>4</td>\n",
       "    </tr>\n",
       "    <tr>\n",
       "      <th>4</th>\n",
       "      <td>0</td>\n",
       "      <td>-1</td>\n",
       "      <td>0</td>\n",
       "      <td>0</td>\n",
       "      <td>1</td>\n",
       "      <td>0</td>\n",
       "      <td>4</td>\n",
       "    </tr>\n",
       "    <tr>\n",
       "      <th>5</th>\n",
       "      <td>0</td>\n",
       "      <td>-1</td>\n",
       "      <td>1</td>\n",
       "      <td>0</td>\n",
       "      <td>1</td>\n",
       "      <td>1</td>\n",
       "      <td>11</td>\n",
       "    </tr>\n",
       "    <tr>\n",
       "      <th>6</th>\n",
       "      <td>1</td>\n",
       "      <td>-1</td>\n",
       "      <td>-1</td>\n",
       "      <td>1</td>\n",
       "      <td>1</td>\n",
       "      <td>1</td>\n",
       "      <td>3</td>\n",
       "    </tr>\n",
       "    <tr>\n",
       "      <th>7</th>\n",
       "      <td>1</td>\n",
       "      <td>-1</td>\n",
       "      <td>0</td>\n",
       "      <td>0</td>\n",
       "      <td>1</td>\n",
       "      <td>1</td>\n",
       "      <td>5</td>\n",
       "    </tr>\n",
       "    <tr>\n",
       "      <th>8</th>\n",
       "      <td>1</td>\n",
       "      <td>-1</td>\n",
       "      <td>1</td>\n",
       "      <td>1</td>\n",
       "      <td>1</td>\n",
       "      <td>1</td>\n",
       "      <td>19</td>\n",
       "    </tr>\n",
       "    <tr>\n",
       "      <th>9</th>\n",
       "      <td>-1</td>\n",
       "      <td>0</td>\n",
       "      <td>-1</td>\n",
       "      <td>0</td>\n",
       "      <td>1</td>\n",
       "      <td>1</td>\n",
       "      <td>9</td>\n",
       "    </tr>\n",
       "    <tr>\n",
       "      <th>10</th>\n",
       "      <td>-1</td>\n",
       "      <td>0</td>\n",
       "      <td>0</td>\n",
       "      <td>0</td>\n",
       "      <td>1</td>\n",
       "      <td>0</td>\n",
       "      <td>6</td>\n",
       "    </tr>\n",
       "    <tr>\n",
       "      <th>11</th>\n",
       "      <td>-1</td>\n",
       "      <td>0</td>\n",
       "      <td>1</td>\n",
       "      <td>0</td>\n",
       "      <td>1</td>\n",
       "      <td>1</td>\n",
       "      <td>10</td>\n",
       "    </tr>\n",
       "    <tr>\n",
       "      <th>12</th>\n",
       "      <td>0</td>\n",
       "      <td>0</td>\n",
       "      <td>-1</td>\n",
       "      <td>0</td>\n",
       "      <td>1</td>\n",
       "      <td>0</td>\n",
       "      <td>3</td>\n",
       "    </tr>\n",
       "    <tr>\n",
       "      <th>13</th>\n",
       "      <td>0</td>\n",
       "      <td>0</td>\n",
       "      <td>0</td>\n",
       "      <td>0</td>\n",
       "      <td>0</td>\n",
       "      <td>0</td>\n",
       "      <td>0</td>\n",
       "    </tr>\n",
       "    <tr>\n",
       "      <th>14</th>\n",
       "      <td>0</td>\n",
       "      <td>0</td>\n",
       "      <td>1</td>\n",
       "      <td>0</td>\n",
       "      <td>1</td>\n",
       "      <td>0</td>\n",
       "      <td>2</td>\n",
       "    </tr>\n",
       "    <tr>\n",
       "      <th>15</th>\n",
       "      <td>1</td>\n",
       "      <td>0</td>\n",
       "      <td>-1</td>\n",
       "      <td>0</td>\n",
       "      <td>1</td>\n",
       "      <td>1</td>\n",
       "      <td>3</td>\n",
       "    </tr>\n",
       "    <tr>\n",
       "      <th>16</th>\n",
       "      <td>1</td>\n",
       "      <td>0</td>\n",
       "      <td>0</td>\n",
       "      <td>0</td>\n",
       "      <td>1</td>\n",
       "      <td>0</td>\n",
       "      <td>1</td>\n",
       "    </tr>\n",
       "    <tr>\n",
       "      <th>17</th>\n",
       "      <td>1</td>\n",
       "      <td>0</td>\n",
       "      <td>1</td>\n",
       "      <td>0</td>\n",
       "      <td>1</td>\n",
       "      <td>1</td>\n",
       "      <td>2</td>\n",
       "    </tr>\n",
       "    <tr>\n",
       "      <th>18</th>\n",
       "      <td>-1</td>\n",
       "      <td>1</td>\n",
       "      <td>-1</td>\n",
       "      <td>1</td>\n",
       "      <td>1</td>\n",
       "      <td>1</td>\n",
       "      <td>7</td>\n",
       "    </tr>\n",
       "    <tr>\n",
       "      <th>19</th>\n",
       "      <td>-1</td>\n",
       "      <td>1</td>\n",
       "      <td>0</td>\n",
       "      <td>0</td>\n",
       "      <td>1</td>\n",
       "      <td>1</td>\n",
       "      <td>8</td>\n",
       "    </tr>\n",
       "    <tr>\n",
       "      <th>20</th>\n",
       "      <td>-1</td>\n",
       "      <td>1</td>\n",
       "      <td>1</td>\n",
       "      <td>1</td>\n",
       "      <td>1</td>\n",
       "      <td>1</td>\n",
       "      <td>15</td>\n",
       "    </tr>\n",
       "    <tr>\n",
       "      <th>21</th>\n",
       "      <td>0</td>\n",
       "      <td>1</td>\n",
       "      <td>-1</td>\n",
       "      <td>0</td>\n",
       "      <td>1</td>\n",
       "      <td>1</td>\n",
       "      <td>7</td>\n",
       "    </tr>\n",
       "    <tr>\n",
       "      <th>22</th>\n",
       "      <td>0</td>\n",
       "      <td>1</td>\n",
       "      <td>0</td>\n",
       "      <td>0</td>\n",
       "      <td>1</td>\n",
       "      <td>0</td>\n",
       "      <td>0</td>\n",
       "    </tr>\n",
       "    <tr>\n",
       "      <th>23</th>\n",
       "      <td>0</td>\n",
       "      <td>1</td>\n",
       "      <td>1</td>\n",
       "      <td>0</td>\n",
       "      <td>1</td>\n",
       "      <td>1</td>\n",
       "      <td>0</td>\n",
       "    </tr>\n",
       "    <tr>\n",
       "      <th>24</th>\n",
       "      <td>1</td>\n",
       "      <td>1</td>\n",
       "      <td>-1</td>\n",
       "      <td>1</td>\n",
       "      <td>1</td>\n",
       "      <td>1</td>\n",
       "      <td>18</td>\n",
       "    </tr>\n",
       "    <tr>\n",
       "      <th>25</th>\n",
       "      <td>1</td>\n",
       "      <td>1</td>\n",
       "      <td>0</td>\n",
       "      <td>0</td>\n",
       "      <td>1</td>\n",
       "      <td>1</td>\n",
       "      <td>1</td>\n",
       "    </tr>\n",
       "    <tr>\n",
       "      <th>26</th>\n",
       "      <td>1</td>\n",
       "      <td>1</td>\n",
       "      <td>1</td>\n",
       "      <td>1</td>\n",
       "      <td>1</td>\n",
       "      <td>1</td>\n",
       "      <td>0</td>\n",
       "    </tr>\n",
       "  </tbody>\n",
       "</table>\n",
       "</div>"
      ],
      "text/plain": [
       "    h  k  l  h_asu  k_asu  l_asu  op\n",
       "0  -1 -1 -1      1      1      1  12\n",
       "1  -1 -1  0      0      1      1   6\n",
       "2  -1 -1  1      1      1      1   6\n",
       "3   0 -1 -1      0      1      1   4\n",
       "4   0 -1  0      0      1      0   4\n",
       "5   0 -1  1      0      1      1  11\n",
       "6   1 -1 -1      1      1      1   3\n",
       "7   1 -1  0      0      1      1   5\n",
       "8   1 -1  1      1      1      1  19\n",
       "9  -1  0 -1      0      1      1   9\n",
       "10 -1  0  0      0      1      0   6\n",
       "11 -1  0  1      0      1      1  10\n",
       "12  0  0 -1      0      1      0   3\n",
       "13  0  0  0      0      0      0   0\n",
       "14  0  0  1      0      1      0   2\n",
       "15  1  0 -1      0      1      1   3\n",
       "16  1  0  0      0      1      0   1\n",
       "17  1  0  1      0      1      1   2\n",
       "18 -1  1 -1      1      1      1   7\n",
       "19 -1  1  0      0      1      1   8\n",
       "20 -1  1  1      1      1      1  15\n",
       "21  0  1 -1      0      1      1   7\n",
       "22  0  1  0      0      1      0   0\n",
       "23  0  1  1      0      1      1   0\n",
       "24  1  1 -1      1      1      1  18\n",
       "25  1  1  0      0      1      1   1\n",
       "26  1  1  1      1      1      1   0"
      ]
     },
     "execution_count": 17,
     "metadata": {},
     "output_type": "execute_result"
    }
   ],
   "source": [
    "# generate a grid of 27 h,k,l values\n",
    "h,k,l = np.meshgrid([-1,0,1],[-1,0,1],[-1,0,1])\n",
    "h = h.flatten() # so we can put them side-by-side in a table\n",
    "k = k.flatten()\n",
    "l = l.flatten()\n",
    "\n",
    "# find position in the asu and the operator index n that took it there\n",
    "h_asu,k_asu,l_asu,n = symm.to_asu(h,k,l)\n",
    "\n",
    "# display as a table\n",
    "df = pd.DataFrame({'h':h,'k':k,'l':l,'h_asu':h_asu,'k_asu':k_asu,'l_asu':l_asu,'op':n})\n",
    "df"
   ]
  },
  {
   "cell_type": "code",
   "execution_count": 18,
   "id": "04a25f09-49e1-4dcf-8aac-90d46ebc8baf",
   "metadata": {
    "tags": []
   },
   "outputs": [
    {
     "data": {
      "text/plain": [
       "<matplotlib.colorbar.Colorbar at 0x158a4b040>"
      ]
     },
     "execution_count": 18,
     "metadata": {},
     "output_type": "execute_result"
    },
    {
     "data": {
      "image/png": "[encoded data removed]",
      "text/plain": [
       "<Figure size 432x288 with 2 Axes>"
      ]
     },
     "metadata": {
      "needs_background": "light"
     },
     "output_type": "display_data"
    }
   ],
   "source": [
    "# for fun, lets visualize the asymmetric units on the detector face\n",
    "nframe = 40 # <-- 0 to 50. change the frame and see what happens\n",
    "h = mi.h[nframe,:,:]\n",
    "k = mi.k[nframe,:,:] \n",
    "l = mi.l[nframe,:,:]\n",
    "_,_,_,n = symm.to_asu(h,k,l)\n",
    "plt.imshow(n,extent=[0,1,1,0],cmap=\"tab20\")\n",
    "plt.colorbar()"
   ]
  },
  {
   "cell_type": "markdown",
   "id": "5f300d63-6042-4819-be47-ce325d62e298",
   "metadata": {},
   "source": [
    "## 2) Intensity statistics (*pandas*)\n",
    "\n",
    "### Intensity vs. resolution\n",
    "\n",
    "Load the corrected, unmerged data"
   ]
  },
  {
   "cell_type": "code",
   "execution_count": 19,
   "id": "f3b2b64d-9911-43b1-a011-fdd9d551dada",
   "metadata": {},
   "outputs": [
    {
     "name": "stdout",
     "output_type": "stream",
     "text": [
      "Reading hkl_table from corrected.nxs\n",
      "  importing as HKLTable from mdx2.data\n"
     ]
    },
    {
     "data": {
      "text/html": [
       "<div>\n",
       "<style scoped>\n",
       "    .dataframe tbody tr th:only-of-type {\n",
       "        vertical-align: middle;\n",
       "    }\n",
       "\n",
       "    .dataframe tbody tr th {\n",
       "        vertical-align: top;\n",
       "    }\n",
       "\n",
       "    .dataframe thead th {\n",
       "        text-align: right;\n",
       "    }\n",
       "</style>\n",
       "<table border=\"1\" class=\"dataframe\">\n",
       "  <thead>\n",
       "    <tr style=\"text-align: right;\">\n",
       "      <th></th>\n",
       "      <th></th>\n",
       "      <th></th>\n",
       "      <th></th>\n",
       "      <th></th>\n",
       "      <th>intensity</th>\n",
       "      <th>intensity_error</th>\n",
       "      <th>ix</th>\n",
       "      <th>iy</th>\n",
       "      <th>phi</th>\n",
       "      <th>rs_volume</th>\n",
       "      <th>s</th>\n",
       "    </tr>\n",
       "    <tr>\n",
       "      <th>h</th>\n",
       "      <th>k</th>\n",
       "      <th>l</th>\n",
       "      <th>op</th>\n",
       "      <th>n</th>\n",
       "      <th></th>\n",
       "      <th></th>\n",
       "      <th></th>\n",
       "      <th></th>\n",
       "      <th></th>\n",
       "      <th></th>\n",
       "      <th></th>\n",
       "    </tr>\n",
       "  </thead>\n",
       "  <tbody>\n",
       "    <tr>\n",
       "      <th rowspan=\"5\" valign=\"top\">0.0</th>\n",
       "      <th rowspan=\"5\" valign=\"top\">0.25</th>\n",
       "      <th rowspan=\"5\" valign=\"top\">2.5</th>\n",
       "      <th>1</th>\n",
       "      <th>0</th>\n",
       "      <td>NaN</td>\n",
       "      <td>5432521.00</td>\n",
       "      <td>1242.000000</td>\n",
       "      <td>1287.000000</td>\n",
       "      <td>190.949997</td>\n",
       "      <td>0.000198</td>\n",
       "      <td>0.031594</td>\n",
       "    </tr>\n",
       "    <tr>\n",
       "      <th rowspan=\"4\" valign=\"top\">2</th>\n",
       "      <th>0</th>\n",
       "      <td>10412505.0</td>\n",
       "      <td>3294065.75</td>\n",
       "      <td>1304.506470</td>\n",
       "      <td>1272.545410</td>\n",
       "      <td>187.051300</td>\n",
       "      <td>0.000595</td>\n",
       "      <td>0.031594</td>\n",
       "    </tr>\n",
       "    <tr>\n",
       "      <th>1</th>\n",
       "      <td>12851725.0</td>\n",
       "      <td>3343736.50</td>\n",
       "      <td>1304.500000</td>\n",
       "      <td>1272.500000</td>\n",
       "      <td>189.000000</td>\n",
       "      <td>0.000617</td>\n",
       "      <td>0.031594</td>\n",
       "    </tr>\n",
       "    <tr>\n",
       "      <th>3</th>\n",
       "      <td>10559764.0</td>\n",
       "      <td>3110472.50</td>\n",
       "      <td>1304.604614</td>\n",
       "      <td>1272.465088</td>\n",
       "      <td>191.048843</td>\n",
       "      <td>0.000662</td>\n",
       "      <td>0.031594</td>\n",
       "    </tr>\n",
       "    <tr>\n",
       "      <th>5</th>\n",
       "      <td>10753243.0</td>\n",
       "      <td>2887477.75</td>\n",
       "      <td>1304.800049</td>\n",
       "      <td>1272.400024</td>\n",
       "      <td>193.000000</td>\n",
       "      <td>0.000768</td>\n",
       "      <td>0.031594</td>\n",
       "    </tr>\n",
       "  </tbody>\n",
       "</table>\n",
       "</div>"
      ],
      "text/plain": [
       "                    intensity  intensity_error           ix           iy  \\\n",
       "h   k    l   op n                                                          \n",
       "0.0 0.25 2.5 1  0         NaN       5432521.00  1242.000000  1287.000000   \n",
       "             2  0  10412505.0       3294065.75  1304.506470  1272.545410   \n",
       "                1  12851725.0       3343736.50  1304.500000  1272.500000   \n",
       "                3  10559764.0       3110472.50  1304.604614  1272.465088   \n",
       "                5  10753243.0       2887477.75  1304.800049  1272.400024   \n",
       "\n",
       "                          phi  rs_volume         s  \n",
       "h   k    l   op n                                   \n",
       "0.0 0.25 2.5 1  0  190.949997   0.000198  0.031594  \n",
       "             2  0  187.051300   0.000595  0.031594  \n",
       "                1  189.000000   0.000617  0.031594  \n",
       "                3  191.048843   0.000662  0.031594  \n",
       "                5  193.000000   0.000768  0.031594  "
      ]
     },
     "execution_count": 19,
     "metadata": {},
     "output_type": "execute_result"
    }
   ],
   "source": [
    "# load table as mdx2 object\n",
    "tab = loadobj('corrected.nxs','hkl_table')\n",
    "\n",
    "# convert to pandas DataFrame\n",
    "df = tab.to_frame().set_index(['h','k','l','op','n']).sort_index()\n",
    "\n",
    "# show the first several rows\n",
    "df.head()"
   ]
  },
  {
   "cell_type": "markdown",
   "id": "8269163e-8807-4d7a-8186-a86731cbc266",
   "metadata": {},
   "source": [
    "Plot the mean and standard deviation of intensity vs. s"
   ]
  },
  {
   "cell_type": "code",
   "execution_count": 20,
   "id": "8624a8a7-60d0-458d-8ed7-ac466264db32",
   "metadata": {},
   "outputs": [
    {
     "data": {
      "image/png": "[encoded data removed]",
      "text/plain": [
       "<Figure size 432x288 with 1 Axes>"
      ]
     },
     "metadata": {
      "needs_background": "light"
     },
     "output_type": "display_data"
    }
   ],
   "source": [
    "# divide into 100 equal sized bins\n",
    "s_bins = pd.cut(df['s'],100)\n",
    "\n",
    "# compute statistics in each bin\n",
    "df_isoavg = df.groupby(s_bins).agg({\n",
    "    's':'mean',\n",
    "    'intensity':['mean','std'],\n",
    "    'intensity_error':'mean'})\n",
    "\n",
    "# plot statistics vs. s\n",
    "df_isoavg.set_index(('s','mean')).plot();"
   ]
  },
  {
   "cell_type": "markdown",
   "id": "abc8a8ec-1a7c-4187-ba33-8fcad9df075e",
   "metadata": {},
   "source": [
    "### Correlation of half-datasets\n",
    "\n",
    "A common way to determine data quality is to split the dataset in half, merge separately, and compute the correlation coefficient between the two halves.\n",
    "\n",
    "There are different ways to split the data. In *mdx-lib* we split the data randomly such that each half has roughly equal statistical weight. The coefficient is called CC1/2. We haven't implemented the algorithm yet in *mdx2*. \n",
    "\n",
    "An simpler method is to split in reciprocal space. We'll just arbitrarily assign symmetry operators to one group or the other."
   ]
  },
  {
   "cell_type": "markdown",
   "id": "dc1ff616-4593-413a-8a84-834765b20e6f",
   "metadata": {},
   "source": [
    "#### Split into half datasets"
   ]
  },
  {
   "cell_type": "code",
   "execution_count": 21,
   "id": "b7eb2248-07bc-4825-a7a0-4d5974100ae3",
   "metadata": {},
   "outputs": [
    {
     "name": "stdout",
     "output_type": "stream",
     "text": [
      "Reading hkl_table from corrected.nxs\n",
      "  importing as HKLTable from mdx2.data\n",
      "interval: (-0.023, 11.5]\n",
      "Exporting <class 'mdx2.data.HKLTable'> to nexus object\n",
      "  writing hkl_table to split_1.nxs\n",
      "interval: (11.5, 23.0]\n",
      "Exporting <class 'mdx2.data.HKLTable'> to nexus object\n",
      "  writing hkl_table to split_2.nxs\n"
     ]
    }
   ],
   "source": [
    "# load the table again\n",
    "tab = loadobj('corrected.nxs','hkl_table')\n",
    "df = tab.to_frame()\n",
    "\n",
    "# split into two halves based on the symmetry operator\n",
    "grouped = df.groupby(pd.cut(df['op'],2))\n",
    "\n",
    "# save as nexus files for merging with mdx2.merge\n",
    "for grp,filename in zip(grouped,('split_1.nxs','split_2.nxs')):\n",
    "    print('interval:',grp[0])\n",
    "    _tmp = HKLTable.from_frame(grp[1])\n",
    "    _tmp.ndiv = tab.ndiv # need to add back the grid subdivision info\n",
    "    saveobj(_tmp,filename)"
   ]
  },
  {
   "cell_type": "markdown",
   "id": "24641891-4212-466e-8374-7fb10a797844",
   "metadata": {},
   "source": [
    "#### Merge the half datasets"
   ]
  },
  {
   "cell_type": "code",
   "execution_count": 22,
   "id": "7f03e97c-e5bd-450b-8ffa-796261d63c4d",
   "metadata": {},
   "outputs": [
    {
     "name": "stdout",
     "output_type": "stream",
     "text": [
      "Reading hkl_table from split_1.nxs\n",
      "  importing as HKLTable from mdx2.data\n",
      "Grouping redundant observations\n",
      "Reading scaling_model from scales.nxs\n",
      "  importing as ScalingModel from mdx2.scaling\n",
      "Calculating scales\n",
      "Merging\n",
      "Exporting <class 'mdx2.data.HKLTable'> to nexus object\n",
      "  writing hkl_table to merged_1.nxs\n",
      "done!\n",
      "Reading hkl_table from split_2.nxs\n",
      "  importing as HKLTable from mdx2.data\n",
      "Grouping redundant observations\n",
      "Reading scaling_model from scales.nxs\n",
      "  importing as ScalingModel from mdx2.scaling\n",
      "Calculating scales\n",
      "Merging\n",
      "Exporting <class 'mdx2.data.HKLTable'> to nexus object\n",
      "  writing hkl_table to merged_2.nxs\n",
      "done!\n"
     ]
    }
   ],
   "source": [
    "!mdx2.merge split_1.nxs --scale scales.nxs --outfile merged_1.nxs\n",
    "!mdx2.merge split_2.nxs --scale scales.nxs --outfile merged_2.nxs"
   ]
  },
  {
   "cell_type": "markdown",
   "id": "49ccb710-9d91-4019-a397-fa9341a1f560",
   "metadata": {},
   "source": [
    "#### Compute the correlation coefficients\n",
    "\n",
    "Load the half datasets merge them into one table"
   ]
  },
  {
   "cell_type": "code",
   "execution_count": 23,
   "id": "6e668781-d13b-48b8-a7bb-7cb04f37a500",
   "metadata": {},
   "outputs": [
    {
     "name": "stdout",
     "output_type": "stream",
     "text": [
      "Reading hkl_table from merged_1.nxs\n",
      "  importing as HKLTable from mdx2.data\n",
      "Reading hkl_table from merged_2.nxs\n",
      "  importing as HKLTable from mdx2.data\n",
      "Reading crystal from geometry.nxs\n",
      "  importing as Crystal from mdx2.geometry\n"
     ]
    },
    {
     "data": {
      "text/html": [
       "<div>\n",
       "<style scoped>\n",
       "    .dataframe tbody tr th:only-of-type {\n",
       "        vertical-align: middle;\n",
       "    }\n",
       "\n",
       "    .dataframe tbody tr th {\n",
       "        vertical-align: top;\n",
       "    }\n",
       "\n",
       "    .dataframe thead th {\n",
       "        text-align: right;\n",
       "    }\n",
       "</style>\n",
       "<table border=\"1\" class=\"dataframe\">\n",
       "  <thead>\n",
       "    <tr style=\"text-align: right;\">\n",
       "      <th></th>\n",
       "      <th></th>\n",
       "      <th></th>\n",
       "      <th>count_1</th>\n",
       "      <th>intensity_1</th>\n",
       "      <th>intensity_error_1</th>\n",
       "      <th>s</th>\n",
       "      <th>count_2</th>\n",
       "      <th>intensity_2</th>\n",
       "      <th>intensity_error_2</th>\n",
       "    </tr>\n",
       "    <tr>\n",
       "      <th>h</th>\n",
       "      <th>k</th>\n",
       "      <th>l</th>\n",
       "      <th></th>\n",
       "      <th></th>\n",
       "      <th></th>\n",
       "      <th></th>\n",
       "      <th></th>\n",
       "      <th></th>\n",
       "      <th></th>\n",
       "    </tr>\n",
       "  </thead>\n",
       "  <tbody>\n",
       "    <tr>\n",
       "      <th rowspan=\"5\" valign=\"top\">0.25</th>\n",
       "      <th rowspan=\"5\" valign=\"top\">0.5</th>\n",
       "      <th>2.50</th>\n",
       "      <td>19</td>\n",
       "      <td>12998998.0</td>\n",
       "      <td>762653.56250</td>\n",
       "      <td>0.032214</td>\n",
       "      <td>9</td>\n",
       "      <td>12289400.0</td>\n",
       "      <td>809300.0625</td>\n",
       "    </tr>\n",
       "    <tr>\n",
       "      <th>2.75</th>\n",
       "      <td>28</td>\n",
       "      <td>12745830.0</td>\n",
       "      <td>321462.59375</td>\n",
       "      <td>0.035289</td>\n",
       "      <td>32</td>\n",
       "      <td>12724568.0</td>\n",
       "      <td>353913.2500</td>\n",
       "    </tr>\n",
       "    <tr>\n",
       "      <th>3.00</th>\n",
       "      <td>33</td>\n",
       "      <td>14997595.0</td>\n",
       "      <td>304689.31250</td>\n",
       "      <td>0.038374</td>\n",
       "      <td>35</td>\n",
       "      <td>14976032.0</td>\n",
       "      <td>325297.4375</td>\n",
       "    </tr>\n",
       "    <tr>\n",
       "      <th>3.25</th>\n",
       "      <td>32</td>\n",
       "      <td>14185853.0</td>\n",
       "      <td>315327.18750</td>\n",
       "      <td>0.041469</td>\n",
       "      <td>37</td>\n",
       "      <td>14133615.0</td>\n",
       "      <td>302805.4375</td>\n",
       "    </tr>\n",
       "    <tr>\n",
       "      <th>3.50</th>\n",
       "      <td>37</td>\n",
       "      <td>13687030.0</td>\n",
       "      <td>305594.96875</td>\n",
       "      <td>0.044570</td>\n",
       "      <td>34</td>\n",
       "      <td>13627308.0</td>\n",
       "      <td>309478.3750</td>\n",
       "    </tr>\n",
       "  </tbody>\n",
       "</table>\n",
       "</div>"
      ],
      "text/plain": [
       "               count_1  intensity_1  intensity_error_1         s  count_2  \\\n",
       "h    k   l                                                                  \n",
       "0.25 0.5 2.50       19   12998998.0       762653.56250  0.032214        9   \n",
       "         2.75       28   12745830.0       321462.59375  0.035289       32   \n",
       "         3.00       33   14997595.0       304689.31250  0.038374       35   \n",
       "         3.25       32   14185853.0       315327.18750  0.041469       37   \n",
       "         3.50       37   13687030.0       305594.96875  0.044570       34   \n",
       "\n",
       "               intensity_2  intensity_error_2  \n",
       "h    k   l                                     \n",
       "0.25 0.5 2.50   12289400.0        809300.0625  \n",
       "         2.75   12724568.0        353913.2500  \n",
       "         3.00   14976032.0        325297.4375  \n",
       "         3.25   14133615.0        302805.4375  \n",
       "         3.50   13627308.0        309478.3750  "
      ]
     },
     "execution_count": 23,
     "metadata": {},
     "output_type": "execute_result"
    }
   ],
   "source": [
    "t1 = loadobj('merged_1.nxs','hkl_table')\n",
    "t2 = loadobj('merged_2.nxs','hkl_table')\n",
    "\n",
    "# computing scattering vector magnitude\n",
    "Crystal = loadobj('geometry.nxs','crystal')\n",
    "UB = Crystal.ub_matrix\n",
    "s = UB @ np.stack((t1.h,t1.k,t1.l))\n",
    "t1.s = np.sqrt(np.sum(s*s,axis=0))\n",
    "\n",
    "# merge the two tables\n",
    "df1 = t1.to_frame().set_index(['h','k','l'])\n",
    "df2 = t2.to_frame().set_index(['h','k','l'])\n",
    "df12 = df1.merge(df2,on=('h','k','l'),suffixes=('_1','_2'))\n",
    "df12.head()"
   ]
  },
  {
   "cell_type": "markdown",
   "id": "14606c2d-f9ad-4869-bfb0-1140c64074f6",
   "metadata": {},
   "source": [
    "Now, we just need to group by |s| and compute correlation in each one"
   ]
  },
  {
   "cell_type": "code",
   "execution_count": 177,
   "id": "6b9cf2f2-e3c6-4916-80ac-16c525004ca3",
   "metadata": {},
   "outputs": [
    {
     "data": {
      "text/plain": [
       "<AxesSubplot:xlabel='s'>"
      ]
     },
     "execution_count": 177,
     "metadata": {},
     "output_type": "execute_result"
    },
    {
     "data": {
      "image/png": "[encoded data removed]",
      "text/plain": [
       "<Figure size 432x288 with 1 Axes>"
      ]
     },
     "metadata": {
      "needs_background": "light"
     },
     "output_type": "display_data"
    }
   ],
   "source": [
    "# correlation within resolution shells\n",
    "s_bin = pd.cut(df12.s,50)\n",
    "corr_binned = df12.groupby(s_bin)['intensity_1','intensity_2'].corr(method='pearson').unstack()\n",
    "corr_binned['s'] = df12.groupby(s_bin)['s'].mean()\n",
    "corr_binned.plot(x='s',y=('intensity_1','intensity_2'))"
   ]
  },
  {
   "cell_type": "code",
   "execution_count": 211,
   "id": "1e58fac6-d72e-4bb1-8bee-bcdec422604d",
   "metadata": {},
   "outputs": [
    {
     "data": {
      "text/plain": [
       "<AxesSubplot:xlabel='intensity_1', ylabel='intensity_2'>"
      ]
     },
     "execution_count": 211,
     "metadata": {},
     "output_type": "execute_result"
    },
    {
     "data": {
      "image/png": "[encoded data removed]",
      "text/plain": [
       "<Figure size 432x288 with 1 Axes>"
      ]
     },
     "metadata": {
      "needs_background": "light"
     },
     "output_type": "display_data"
    }
   ],
   "source": [
    "df12.plot.scatter(x='intensity_1',y='intensity_2',s=1)"
   ]
  },
  {
   "cell_type": "markdown",
   "id": "631f47b2-69e3-465f-8da5-789d81d8c27d",
   "metadata": {},
   "source": [
    "This looks kind of bad! But recall that many points have very poor signal to noise ratio. If we exclude them, it gets better."
   ]
  },
  {
   "cell_type": "code",
   "execution_count": 212,
   "id": "b1f3d3db-6d8e-4ba4-a1cb-fc7a1fed7893",
   "metadata": {},
   "outputs": [
    {
     "data": {
      "text/plain": [
       "<AxesSubplot:xlabel='intensity_1', ylabel='intensity_2'>"
      ]
     },
     "execution_count": 212,
     "metadata": {},
     "output_type": "execute_result"
    },
    {
     "data": {
      "image/png": "[encoded data removed]",
      "text/plain": [
       "<Figure size 432x288 with 1 Axes>"
      ]
     },
     "metadata": {
      "needs_background": "light"
     },
     "output_type": "display_data"
    }
   ],
   "source": [
    "# filter by snr\n",
    "df12['snr_1'] = df12.intensity_1/df12.intensity_error_1\n",
    "df12['snr_2'] = df12.intensity_2/df12.intensity_error_2\n",
    "\n",
    "snr_cutoff = 5 # try changing this value\n",
    "df12_filt = df12[(df12.snr_1 > snr_cutoff) & (df12.snr_2 > snr_cutoff)]\n",
    "df12_filt.plot.scatter(x='intensity_1',y='intensity_2',s=1)"
   ]
  },
  {
   "cell_type": "code",
   "execution_count": 214,
   "id": "4e7b7c6b-fd87-4d2b-8e79-bb8953d5cb70",
   "metadata": {},
   "outputs": [
    {
     "data": {
      "text/plain": [
       "<AxesSubplot:xlabel='s'>"
      ]
     },
     "execution_count": 214,
     "metadata": {},
     "output_type": "execute_result"
    },
    {
     "data": {
      "image/png": "[encoded data removed]",
      "text/plain": [
       "<Figure size 432x288 with 1 Axes>"
      ]
     },
     "metadata": {
      "needs_background": "light"
     },
     "output_type": "display_data"
    }
   ],
   "source": [
    "# correlation within resolution shells\n",
    "s_bin = pd.cut(df12_filt.s,50)\n",
    "corr_binned = df12_filt.groupby(s_bin)['intensity_1','intensity_2'].corr(method='pearson').unstack()\n",
    "corr_binned['s'] = df12_filt.groupby(s_bin)['s'].mean()\n",
    "corr_binned.plot(x='s',y=('intensity_1','intensity_2'))"
   ]
  },
  {
   "cell_type": "code",
   "execution_count": null,
   "id": "8a268f13-60b0-4170-a111-1ba976abcdbb",
   "metadata": {},
   "outputs": [],
   "source": []
  }
 ],
 "metadata": {
  "kernelspec": {
   "display_name": "Python 3 (ipykernel)",
   "language": "python",
   "name": "python3"
  },
  "language_info": {
   "codemirror_mode": {
    "name": "ipython",
    "version": 3
   },
   "file_extension": ".py",
   "mimetype": "text/x-python",
   "name": "python",
   "nbconvert_exporter": "python",
   "pygments_lexer": "ipython3",
   "version": "3.9.12"
  }
 },
 "nbformat": 4,
 "nbformat_minor": 5
}
