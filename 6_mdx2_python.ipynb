{
 "cells": [
  {
   "cell_type": "markdown",
   "id": "a5a08540-1209-4aa6-8e54-f696be004e7d",
   "metadata": {},
   "source": [
    "# Using *mdx2* in python (advanced)"
   ]
  },
  {
   "cell_type": "code",
   "execution_count": null,
   "id": "723f8773-8dbb-474b-94ad-a78217bea033",
   "metadata": {},
   "outputs": [],
   "source": []
  }
 ],
 "metadata": {
  "kernelspec": {
   "display_name": "Python 3 (ipykernel)",
   "language": "python",
   "name": "python3"
  },
  "language_info": {
   "codemirror_mode": {
    "name": "ipython",
    "version": 3
   },
   "file_extension": ".py",
   "mimetype": "text/x-python",
   "name": "python",
   "nbconvert_exporter": "python",
   "pygments_lexer": "ipython3",
   "version": "3.9.12"
  }
 },
 "nbformat": 4,
 "nbformat_minor": 5
}
