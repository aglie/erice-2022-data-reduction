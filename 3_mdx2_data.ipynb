{
 "cells": [
  {
   "cell_type": "markdown",
   "id": "02bca98c-5dbc-44b7-bcd0-840be0a419d2",
   "metadata": {},
   "source": [
    "# Processing diffraction images with *mdx2*"
   ]
  },
  {
   "cell_type": "code",
   "execution_count": null,
   "id": "b63bc362-60d8-4ccf-995a-292c2739b6cd",
   "metadata": {},
   "outputs": [],
   "source": []
  }
 ],
 "metadata": {
  "kernelspec": {
   "display_name": "Python 3 (ipykernel)",
   "language": "python",
   "name": "python3"
  },
  "language_info": {
   "codemirror_mode": {
    "name": "ipython",
    "version": 3
   },
   "file_extension": ".py",
   "mimetype": "text/x-python",
   "name": "python",
   "nbconvert_exporter": "python",
   "pygments_lexer": "ipython3",
   "version": "3.9.12"
  }
 },
 "nbformat": 4,
 "nbformat_minor": 5
}
