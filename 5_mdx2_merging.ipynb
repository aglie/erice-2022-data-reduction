{
 "cells": [
  {
   "cell_type": "markdown",
   "id": "a7fc6211-ee26-485f-9897-45de0fffc803",
   "metadata": {},
   "source": [
    "# Merging diffuse scattering with *mdx2*\n",
    "\n"
   ]
  },
  {
   "cell_type": "code",
   "execution_count": 7,
   "id": "e2e30f8e-0a14-4842-8a42-a3bde2496505",
   "metadata": {},
   "outputs": [
    {
     "name": "stdout",
     "output_type": "stream",
     "text": [
      "DIALS 3.dev\n",
      "Python 3.9.12\n",
      "Installed in: /Users/steve/Desktop/erice/lib/python3.9/site-packages/dials\n",
      "\u001b[0m"
     ]
    }
   ],
   "source": []
  },
  {
   "cell_type": "markdown",
   "id": "e50f885a-a36c-4699-b29f-bdc75bc3418f",
   "metadata": {},
   "source": []
  },
  {
   "cell_type": "code",
   "execution_count": 5,
   "id": "857df390-8eaa-44ee-aad2-27e559c4198b",
   "metadata": {},
   "outputs": [
    {
     "name": "stdout",
     "output_type": "stream",
     "text": [
      "DIALS (2018) Acta Cryst. D74, 85-97. https://doi.org/10.1107/S2059798317017235\n",
      "DIALS 3.dev\n",
      "The following parameters have been modified:\n",
      "\n",
      "input {\n",
      "  experiments = <image files>\n",
      "}\n",
      "\n",
      "--------------------------------------------------------------------------------\n",
      "  format: <class 'dxtbx.format.FormatCBFMiniPilatusCHESS_6MSN127.FormatCBFMiniPilatusCHESS_6MSN127'>\n",
      "  num images: 500\n",
      "  sequences:\n",
      "    still:    0\n",
      "    sweep:    1\n",
      "  num stills: 0\n",
      "--------------------------------------------------------------------------------\n",
      "Writing experiments to imported.expt\n",
      "\u001b[0m"
     ]
    }
   ],
   "source": [
    "!dials.import images/insulin_2_1"
   ]
  },
  {
   "cell_type": "code",
   "execution_count": null,
   "id": "20266506-7382-4837-89b9-e091480e7d28",
   "metadata": {},
   "outputs": [],
   "source": []
  }
 ],
 "metadata": {
  "kernelspec": {
   "display_name": "Python 3 (ipykernel)",
   "language": "python",
   "name": "python3"
  },
  "language_info": {
   "codemirror_mode": {
    "name": "ipython",
    "version": 3
   },
   "file_extension": ".py",
   "mimetype": "text/x-python",
   "name": "python",
   "nbconvert_exporter": "python",
   "pygments_lexer": "ipython3",
   "version": "3.9.12"
  }
 },
 "nbformat": 4,
 "nbformat_minor": 5
}
