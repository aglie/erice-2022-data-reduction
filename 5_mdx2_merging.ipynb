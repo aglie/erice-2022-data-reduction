{
 "cells": [
  {
   "cell_type": "markdown",
   "id": "cdf2cde1-161d-48a9-b1e6-ab3802a46d2a",
   "metadata": {},
   "source": [
    "# Merging diffuse scattering with *mdx2*\n",
    "\n",
    "In this tutorial, we will:\n",
    "\n",
    "- Merge unscaled intensities for a quick look at reciprocal space\n",
    "- Fit a scaling model\n",
    "- Merge scaled intensities for a better quality map\n",
    "\n",
    "Requirements:\n",
    "- `geometry.nxs` from the *mdx2* geometry tutorial\n",
    "- `corrected.nxs` from the *mdx2* integration tutorial\n",
    "\n",
    "<div class=\"alert alert-block alert-warning\">\n",
    "<b>NOTE: This tutorial assumes you have already procesed the full dataset (50 degrees).</b> If you've only processed the first 6 degrees so far (started from results_1_60.expt), you can use a pre-processed corrected.nxs (attached to this release on GitHub), which has the full 50 degrees.\n",
    "</div>"
   ]
  },
  {
   "cell_type": "markdown",
   "id": "ab842cdb-9705-4905-a8ed-c7298d96009f",
   "metadata": {},
   "source": [
    "Imports (run this before you do anything else)"
   ]
  },
  {
   "cell_type": "code",
   "execution_count": 6,
   "id": "b09faee4-35ae-4bcc-92e6-4350f689e124",
   "metadata": {},
   "outputs": [],
   "source": [
    "# for loading mdx2 objects in python\n",
    "from mdx2.utils import loadobj"
   ]
  },
  {
   "cell_type": "markdown",
   "id": "85698290-5cae-4437-a20d-475d12915813",
   "metadata": {},
   "source": [
    "### Background\n",
    "\n",
    "#### Merging\n",
    "\n",
    "The goal of merging is to combine redundant observations (equivalent by e.g. Laue group symmetry). Cubic insulin as 24 Laue group operators, so even with only 50 degrees of data we have good redundancy:"
   ]
  },
  {
   "cell_type": "code",
   "execution_count": 7,
   "id": "7dc310e3-2dcd-4b90-8060-e713cc211fb0",
   "metadata": {},
   "outputs": [
    {
     "name": "stdout",
     "output_type": "stream",
     "text": [
      "Reading hkl_table from corrected.nxs\n",
      "  importing as HKLTable from mdx2.data\n"
     ]
    },
    {
     "data": {
      "image/png": "[encoded data removed]",
      "text/plain": [
       "<Figure size 432x288 with 1 Axes>"
      ]
     },
     "metadata": {
      "needs_background": "light"
     },
     "output_type": "display_data"
    }
   ],
   "source": [
    "# load table\n",
    "tab = loadobj('corrected.nxs','hkl_table')\n",
    "\n",
    "# compute number of times each h,k,l is observed\n",
    "c = tab.to_frame().groupby(['h','k','l'])['phi'].count().value_counts().sort_index()\n",
    "c[c>1000].plot.bar();"
   ]
  },
  {
   "cell_type": "markdown",
   "id": "ceb11242-eb9a-49a3-98aa-4492caae6b4d",
   "metadata": {},
   "source": [
    "#### Scaling\n",
    "\n",
    "In order to merge a high quality map, it's usually necessary to correct for non-ideal aspects of the experiment by scaling.\n",
    "\n",
    "Scaling is important in Bragg data reduction also. Programs like *aimless*, *xscale*, and *dials.scale* are commonly used, and they have similar scaling models.\n",
    "\n",
    "One key difference between diffuse and Bragg data is that Bragg intensities have an internal background reference (the intensity near the peak), so separate background measurements are not required. In diffuse scattering, the experimental background subtraction is not always perfect. So a scaling model for diffuse scattering might also include a correction to the background.\n",
    "\n",
    "We previously implemented a scaling model for diffuse scattering in *mdx-lib* that includes four terms:\n",
    "\n",
    "- $a =$ absorption correction (a function of phi, x, and y) \n",
    "- $b =$ overall scale (a function of phi) \n",
    "- $c =$ isotropic background (a function of phi and s) \n",
    "- $d =$ detector chip gain (a function of x and y)\n",
    "\n",
    "The model is refined using regularization to ensure that the correction factors vary smoothly (e.g. as a function of phi).\n",
    "\n",
    "In *mdx2*, we have only implemented the $b$ term so far. That turns out to be good enough for the insulin dataset, so we'll use it here. The procedure for refining the full scaling model is similar, and will be available in future releases.\n"
   ]
  },
  {
   "cell_type": "markdown",
   "id": "c4f5e289-1a30-4df7-ae14-fd7bef01fe49",
   "metadata": {},
   "source": [
    "## 1) Quick slice\n",
    "\n",
    "### *mdx2.merge*\n",
    "\n",
    "This command lets us merge all redundant observations to produce a table of intensities in the asymmetric unit."
   ]
  },
  {
   "cell_type": "code",
   "execution_count": 8,
   "id": "17fa6043-20c7-4742-90cf-6080f8502cb8",
   "metadata": {},
   "outputs": [
    {
     "name": "stdout",
     "output_type": "stream",
     "text": [
      "usage: mdx2.merge [-h] [--scale SCALE] [--outfile OUTFILE] hkl\n",
      "\n",
      "Merge corrected intensities using a scaling model\n",
      "\n",
      "positional arguments:\n",
      "  hkl                NeXus file with hkl_table\n",
      "\n",
      "optional arguments:\n",
      "  -h, --help         show this help message and exit\n",
      "  --scale SCALE      NeXus file with scaling_model (default: None)\n",
      "  --outfile OUTFILE  name of the output NeXus file (default: merged.nxs)\n"
     ]
    }
   ],
   "source": [
    "!mdx2.merge --help"
   ]
  },
  {
   "cell_type": "markdown",
   "id": "cace334e-ee76-4855-90ae-761e0c51b565",
   "metadata": {},
   "source": [
    "#### Parameter choice\n",
    "\n",
    "The scaling model is optional. Since we haven't scaled the data let, let's just run it on the unscaled data and see what it looks like."
   ]
  },
  {
   "cell_type": "code",
   "execution_count": 13,
   "id": "8fc3af8f-fc1f-48de-b74b-78adad1c135f",
   "metadata": {},
   "outputs": [
    {
     "name": "stdout",
     "output_type": "stream",
     "text": [
      "Reading hkl_table from corrected.nxs\n",
      "  importing as HKLTable from mdx2.data\n",
      "Grouping redundant observations\n",
      "Merging\n",
      "Exporting <class 'mdx2.data.HKLTable'> to nexus object\n",
      "  writing hkl_table to merged_not_scaled.nxs\n",
      "done!\n"
     ]
    }
   ],
   "source": [
    "!mdx2.merge corrected.nxs --outfile merged_not_scaled.nxs"
   ]
  },
  {
   "cell_type": "markdown",
   "id": "640304cf-ea4c-4874-8506-5a16cebbd872",
   "metadata": {},
   "source": [
    "### *mdx2.map*\n",
    "\n",
    "The result from merging is just another table of values. To visualize this table we'll generate a slice through reciprocal space by symmetry expansion and plot it using *nexpy*.\n",
    "\n",
    "The *mdx.map* command can make slices for plotting (it can also generate a 3D volume - more on this later)."
   ]
  },
  {
   "cell_type": "code",
   "execution_count": 14,
   "id": "45b077a5-ffc5-4605-8216-ea5f12089a48",
   "metadata": {},
   "outputs": [
    {
     "name": "stdout",
     "output_type": "stream",
     "text": [
      "usage: mdx2.map [-h] [--symmetry TF] [--limits H1 H2 K1 K2 L1 L2]\n",
      "                [--signal SIGNAL] [--outfile OUTFILE]\n",
      "                geom hkl\n",
      "\n",
      "Create a map from data in an hkl table\n",
      "\n",
      "positional arguments:\n",
      "  geom                  NeXus file with symmetry and crystal\n",
      "  hkl                   NeXus file with hkl_table\n",
      "\n",
      "optional arguments:\n",
      "  -h, --help            show this help message and exit\n",
      "  --symmetry TF         apply symmetry operators? (default: True)\n",
      "  --limits H1 H2 K1 K2 L1 L2\n",
      "                        region to map (default: [0, 10, 0, 10, 0, 10])\n",
      "  --signal SIGNAL       column in hkl_table to map (default: intensity)\n",
      "  --outfile OUTFILE     name of the output NeXus file (default: map.nxs)\n"
     ]
    }
   ],
   "source": [
    "!mdx2.map --help"
   ]
  },
  {
   "cell_type": "markdown",
   "id": "0d12d21e-3213-4af7-9c7e-b183a6f02476",
   "metadata": {},
   "source": [
    "#### Parameter choice\n",
    "\n",
    "We need to set the limits of the map. We'll look at a slice with $l=0$."
   ]
  },
  {
   "cell_type": "code",
   "execution_count": 15,
   "id": "f3b8de3d-e75f-4550-9f2f-32c764684099",
   "metadata": {},
   "outputs": [
    {
     "name": "stdout",
     "output_type": "stream",
     "text": [
      "Reading hkl_table from merged_not_scaled.nxs\n",
      "  importing as HKLTable from mdx2.data\n",
      "Reading crystal from geometry.nxs\n",
      "  importing as Crystal from mdx2.geometry\n",
      "Reading symmetry from geometry.nxs\n",
      "  importing as Symmetry from mdx2.geometry\n",
      "map region:\n",
      "  h from -50.0 to 50.0 (401 grid points)\n",
      "  k from -50.0 to 50.0 (401 grid points)\n",
      "  l from 0.0 to 0.0 (1 grid points)\n",
      "generating Miller index array\n",
      "mapping Miller indices to asymmetric unit\n",
      "looking up intensity in data table\n",
      "preparing output array\n",
      "Exporting <class 'mdx2.geometry.GridData'> to nexus object\n",
      "  writing intensity to slice_not_scaled.nxs\n",
      "done!\n"
     ]
    }
   ],
   "source": [
    "!mdx2.map geometry.nxs merged_not_scaled.nxs --limits -50 50 -50 50 0 0 --outfile slice_not_scaled.nxs"
   ]
  },
  {
   "cell_type": "markdown",
   "id": "11a618b2-1bd4-4f0b-b063-84f19d5c3949",
   "metadata": {},
   "source": [
    "### Visualization in *nexpy*\n",
    "\n",
    "Open `slice_not_scaled.nxs` in *nexpy*. Adjust the sliders in the \"signal\" tab to clearly see the background.\n",
    "\n",
    "<div class=\"alert alert-block alert-info\">\n",
    "    <b>Question:</b> Can you see any artifacts in the map?\n",
    "</div>"
   ]
  },
  {
   "cell_type": "markdown",
   "id": "84eab100-7824-4cf9-ab53-7182d98a8346",
   "metadata": {},
   "source": [
    "## 2) Scaling\n",
    "\n",
    "### *mdx2.scale*"
   ]
  },
  {
   "cell_type": "code",
   "execution_count": 35,
   "id": "e9319ea3-1e73-44af-a89d-dc5b9191a8be",
   "metadata": {},
   "outputs": [
    {
     "name": "stdout",
     "output_type": "stream",
     "text": [
      "usage: mdx2.scale [-h] [--smoothness SMOOTHNESS] [--phi_increment DEGREES]\n",
      "                  [--iter ITER] [--outfile OUTFILE]\n",
      "                  hkl\n",
      "\n",
      "Fit scaling model to unmerged corrected intensities\n",
      "\n",
      "positional arguments:\n",
      "  hkl                   NeXus file with hkl_table\n",
      "\n",
      "optional arguments:\n",
      "  -h, --help            show this help message and exit\n",
      "  --smoothness SMOOTHNESS\n",
      "                        amount to multiply the regularization parameter\n",
      "                        (default: 1)\n",
      "  --phi_increment DEGREES\n",
      "                        spacing of phi control points in degrees (default: 1)\n",
      "  --iter ITER           number of iterations (default: 5)\n",
      "  --outfile OUTFILE     name of the output NeXus file (default: scales.nxs)\n"
     ]
    }
   ],
   "source": [
    "!mdx2.scale --help"
   ]
  },
  {
   "cell_type": "markdown",
   "id": "29075362-b485-4b60-a0fc-718ad47da6e5",
   "metadata": {},
   "source": [
    "#### Parameter choice\n",
    "\n",
    "The defaults are fine to get started."
   ]
  },
  {
   "cell_type": "code",
   "execution_count": 45,
   "id": "af7fee5b-6162-486d-945c-6a303690450a",
   "metadata": {
    "scrolled": true,
    "tags": []
   },
   "outputs": [
    {
     "name": "stdout",
     "output_type": "stream",
     "text": [
      "Reading hkl_table from corrected.nxs\n",
      "  importing as HKLTable from mdx2.data\n",
      "Grouping redundant observations\n",
      "initializing scaling model with 51 samples\n",
      "iteration 1 of 5\n",
      "  re-calculating scales\n",
      "  merging\n",
      "  fitting the model\n",
      "  current x2: 1.3362474224487717\n",
      "iteration 2 of 5\n",
      "  re-calculating scales\n",
      "  merging\n",
      "  fitting the model\n",
      "  current x2: 1.0108451187022505\n",
      "iteration 3 of 5\n",
      "  re-calculating scales\n",
      "  merging\n",
      "  fitting the model\n",
      "  current x2: 0.9876241832268707\n",
      "iteration 4 of 5\n",
      "  re-calculating scales\n",
      "  merging\n",
      "  fitting the model\n",
      "  current x2: 0.9859305872556283\n",
      "iteration 5 of 5\n",
      "  re-calculating scales\n",
      "  merging\n",
      "  fitting the model\n",
      "  current x2: 0.9858042534411342\n",
      "finished refining\n",
      "Exporting <class 'mdx2.scaling.ScalingModel'> to nexus object\n",
      "  writing scaling_model to scales.nxs\n",
      "done!\n"
     ]
    }
   ],
   "source": [
    "!mdx2.scale corrected.nxs --smoothness 1"
   ]
  },
  {
   "cell_type": "markdown",
   "id": "2b9bca26-3e31-45d7-8ebb-9d7f6a9fc0f1",
   "metadata": {},
   "source": [
    "### Results\n",
    "\n",
    "You should see $\\chi^2$ (`x2`) drop with each iteration, until it settles down to ~1 by iteration 5."
   ]
  },
  {
   "cell_type": "markdown",
   "id": "a73bb0df-3817-4c35-9b7c-a54a85578a7a",
   "metadata": {},
   "source": [
    "The scale model parameters are saved in a NeXus file. You can plot them by opening the file in *nexpy* and double-clicking. For convenience I'll plot them in the notebook."
   ]
  },
  {
   "cell_type": "code",
   "execution_count": 46,
   "id": "9ce57650-c0da-4626-b885-cd8188553577",
   "metadata": {},
   "outputs": [
    {
     "name": "stdout",
     "output_type": "stream",
     "text": [
      "Reading scaling_model from scales.nxs\n",
      "  importing as ScalingModel from mdx2.scaling\n"
     ]
    },
    {
     "data": {
      "image/png": "[encoded data removed]",
      "text/plain": [
       "<Figure size 432x288 with 1 Axes>"
      ]
     },
     "metadata": {
      "needs_background": "light"
     },
     "output_type": "display_data"
    }
   ],
   "source": [
    "Model = loadobj('scales.nxs','scaling_model')\n",
    "Model.to_nexus().plot()"
   ]
  },
  {
   "cell_type": "markdown",
   "id": "7cfc56d4-bcdd-4af0-9f80-0eb18249e036",
   "metadata": {},
   "source": [
    "## 3) Merging scaled data\n",
    "\n",
    "Now that we have a scaling model, we can merge and then generate slices and volumes."
   ]
  },
  {
   "cell_type": "code",
   "execution_count": 39,
   "id": "a12833c0-ea4a-4e0c-a491-59d886edbea4",
   "metadata": {},
   "outputs": [
    {
     "name": "stdout",
     "output_type": "stream",
     "text": [
      "Reading hkl_table from corrected.nxs\n",
      "  importing as HKLTable from mdx2.data\n",
      "Grouping redundant observations\n",
      "Reading scaling_model from scales.nxs\n",
      "  importing as ScalingModel from mdx2.scaling\n",
      "Calculating scales\n",
      "Merging\n",
      "Exporting <class 'mdx2.data.HKLTable'> to nexus object\n",
      "  writing hkl_table to merged.nxs\n",
      "done!\n"
     ]
    }
   ],
   "source": [
    "!mdx2.merge corrected.nxs --scale scales.nxs"
   ]
  },
  {
   "cell_type": "markdown",
   "id": "b382863b-b5c4-467c-80a9-187b358631ad",
   "metadata": {},
   "source": [
    "### 2D slice"
   ]
  },
  {
   "cell_type": "code",
   "execution_count": 41,
   "id": "5726928b-42e1-40e2-810d-03135557e5e2",
   "metadata": {},
   "outputs": [
    {
     "name": "stdout",
     "output_type": "stream",
     "text": [
      "Reading hkl_table from merged.nxs\n",
      "  importing as HKLTable from mdx2.data\n",
      "Reading crystal from geometry.nxs\n",
      "  importing as Crystal from mdx2.geometry\n",
      "Reading symmetry from geometry.nxs\n",
      "  importing as Symmetry from mdx2.geometry\n",
      "map region:\n",
      "  h from -50.0 to 50.0 (401 grid points)\n",
      "  k from -50.0 to 50.0 (401 grid points)\n",
      "  l from 0.0 to 0.0 (1 grid points)\n",
      "generating Miller index array\n",
      "mapping Miller indices to asymmetric unit\n",
      "looking up intensity in data table\n",
      "preparing output array\n",
      "Exporting <class 'mdx2.geometry.GridData'> to nexus object\n",
      "  writing intensity to slice.nxs\n",
      "done!\n"
     ]
    }
   ],
   "source": [
    "!mdx2.map geometry.nxs merged.nxs --limits -50 50 -50 50 0 0 --outfile slice.nxs"
   ]
  },
  {
   "cell_type": "markdown",
   "id": "98c9432c-d40f-487b-b95c-a0c3dbdb194d",
   "metadata": {},
   "source": [
    "#### Visualization in *nexpy*\n",
    "\n",
    "Open `slice.nxs` in *nexpy* and adjust the sliders in the signal tab to make the background scattering variations clear.\n",
    "\n",
    "<div class=\"alert alert-block alert-info\">\n",
    "    <b>Questions:</b> Has scaling reduced the artifacts in the map? What artifacts remain?\n",
    "</div>\n",
    "\n",
    "The result should look something like this:\n",
    "\n",
    "![INSULIN](resources/insulin_slice.png)"
   ]
  },
  {
   "cell_type": "markdown",
   "id": "d0322454-2c9f-41f3-b073-59e73bf655fd",
   "metadata": {},
   "source": [
    "### 3D map\n",
    "\n",
    "We can also use *mdx2.map* to generate a 3D volume rather than a slice. This can be a bit resource intensive. So for the totorial we'll reconstruct one octant of reciprocal space (which is the same as the other seven by symmetry)."
   ]
  },
  {
   "cell_type": "code",
   "execution_count": 42,
   "id": "90a97226-3589-4097-94c9-c32afe476ca4",
   "metadata": {},
   "outputs": [
    {
     "name": "stdout",
     "output_type": "stream",
     "text": [
      "Reading hkl_table from merged.nxs\n",
      "  importing as HKLTable from mdx2.data\n",
      "Reading crystal from geometry.nxs\n",
      "  importing as Crystal from mdx2.geometry\n",
      "Reading symmetry from geometry.nxs\n",
      "  importing as Symmetry from mdx2.geometry\n",
      "map region:\n",
      "  h from 0.0 to 50.0 (201 grid points)\n",
      "  k from 0.0 to 50.0 (201 grid points)\n",
      "  l from 0.0 to 50.0 (201 grid points)\n",
      "generating Miller index array\n",
      "mapping Miller indices to asymmetric unit\n",
      "looking up intensity in data table\n",
      "preparing output array\n",
      "Exporting <class 'mdx2.geometry.GridData'> to nexus object\n",
      "  writing intensity to map.nxs\n",
      "done!\n"
     ]
    }
   ],
   "source": [
    "# map of positive octant (h>=0, k>=0, l>=0)\n",
    "!mdx2.map geometry.nxs merged.nxs --limits -0 50 0 50 0 50 --outfile map.nxs"
   ]
  },
  {
   "cell_type": "markdown",
   "id": "1f8b235b-a42b-473e-a4bb-d498a1f3132f",
   "metadata": {
    "tags": []
   },
   "source": [
    "#### Visualization in *nexpy*\n",
    "\n",
    "Open `map.nxs` in *nexpy*. Scroll through z-slices. It helps to unselect \"autoscale\" in the z tab so that intensity scale is fixed, and then set adjust it in the \"signal\" tab.\n",
    "\n",
    "Spend some time looking through the map.\n",
    "\n",
    "<div class=\"alert alert-block alert-info\">\n",
    "    <b>Questions:</b> What sorts of diffuse scattering features can you find? How might you test whether a feature is real or an artifact of processing? How might you further process the data?\n",
    "</div >\n",
    "\n",
    "## Next steps\n",
    "\n",
    "In the workflow we developed with *mdx-lib*, the next steps are absolute intensity scaling and 3D-$\\Delta$PDF estimation. They have not been implemented yet in *mdx2*, so this is as far as we'll go in this tutorial. I encourage you to read more about them in our 2020 Nature Communications paper, and to try *mdx-lib* if you are interested.\n",
    "\n",
    "The final tutorial contains examples of how *mdx2* can be used in a python environment for crystallographic computing. It is intended for someone familiar with python. It complements the first 5 tutorials, but is optional.\n",
    "\n",
    "Alternatively, you might consider going back through the tutorials to explore different parameter choices. For example, what happens to the scaling model if you set \"--smoothness 0\"?"
   ]
  },
  {
   "cell_type": "code",
   "execution_count": null,
   "id": "05a3e684-9f29-45b6-a99b-ae9402fc6fec",
   "metadata": {},
   "outputs": [],
   "source": []
  }
 ],
 "metadata": {
  "kernelspec": {
   "display_name": "Python 3 (ipykernel)",
   "language": "python",
   "name": "python3"
  },
  "language_info": {
   "codemirror_mode": {
    "name": "ipython",
    "version": 3
   },
   "file_extension": ".py",
   "mimetype": "text/x-python",
   "name": "python",
   "nbconvert_exporter": "python",
   "pygments_lexer": "ipython3",
   "version": "3.9.12"
  }
 },
 "nbformat": 4,
 "nbformat_minor": 5
}
