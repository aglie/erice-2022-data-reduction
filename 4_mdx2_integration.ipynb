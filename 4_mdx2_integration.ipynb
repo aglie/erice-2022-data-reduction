{
 "cells": [
  {
   "cell_type": "markdown",
   "id": "09e8bfd5-a08a-4b6a-9480-3707502a902c",
   "metadata": {},
   "source": [
    "# Diffuse scattering integration with *mdx2*\n",
    "\n",
    "In this tutorial, we will:\n",
    "\n",
    "- Integrate diffuse scattering on a fractional Miller index grid\n",
    "- Correct for geometry and background scattering\n",
    "\n",
    "Requirements:\n",
    "- `geometry.nxs` from the *mdx2* geometry tutorial\n",
    "- `data.nxs`, `bkg_data_binned.nxs`, `mask.nxs` from the *mdx2* data tutorial\n",
    "\n",
    "Imports (run this before you do anything else)"
   ]
  },
  {
   "cell_type": "code",
   "execution_count": 2,
   "id": "bd597362-9451-436e-a268-ac7421674cb4",
   "metadata": {},
   "outputs": [],
   "source": [
    "# for loading mdx2 objects in python\n",
    "from mdx2.utils import loadobj\n",
    "\n",
    "# for calculating statistics\n",
    "import numpy as np\n",
    "import pandas as pd"
   ]
  },
  {
   "cell_type": "markdown",
   "id": "414edb99-bdd5-4ddd-8bd0-d5ccc510f39d",
   "metadata": {},
   "source": [
    "## 1) Integration\n",
    "\n",
    "### *mdx2.integrate*"
   ]
  },
  {
   "cell_type": "code",
   "execution_count": 3,
   "id": "cb464351-e1c4-4694-a3e0-feaf11c6e2ad",
   "metadata": {},
   "outputs": [
    {
     "name": "stdout",
     "output_type": "stream",
     "text": [
      "usage: mdx2.integrate [-h] [--mask MASK] [--subdivide N N N]\n",
      "                      [--max_spread DEGREES] [--outfile OUTFILE]\n",
      "                      geom data\n",
      "\n",
      "Integrate counts in an image stack on a Miller index grid\n",
      "\n",
      "positional arguments:\n",
      "  geom                  NeXus file with miller_index\n",
      "  data                  NeXus file with image_series\n",
      "\n",
      "optional arguments:\n",
      "  -h, --help            show this help message and exit\n",
      "  --mask MASK           NeXus file with mask (default: None)\n",
      "  --subdivide N N N     subdivisions of the Miller index grid (default: [1, 1,\n",
      "                        1])\n",
      "  --max_spread DEGREES  maximum angular spread for binning partial\n",
      "                        observations (default: 1.0)\n",
      "  --outfile OUTFILE     name of the output NeXus file (default:\n",
      "                        integrated.nxs)\n"
     ]
    }
   ],
   "source": [
    "!mdx2.integrate --help"
   ]
  },
  {
   "cell_type": "markdown",
   "id": "dc0e341c-d596-404e-b01e-1aa009dca083",
   "metadata": {},
   "source": [
    "### Parameters\n",
    "\n",
    "The main thing we need to decide is how to divide up reciprocal space into voxels. For the tutorial, I've chosen to subdivide by 4 in each direction, meaning voxels will be centered at h = 1, 1.25, 1.5, 1.75, etc. \n",
    "\n",
    "This is by no means the optimal choice: the limit depends on the mosaicity, experimental geometry, and most importantly what you hope to learn from the diffuse scattering map. You may want to experiment with other subdivisions. But beware that finer maps require a lot more memory and disk space.\n",
    "\n",
    "Integration is the slowest step in data reduction. Be patient."
   ]
  },
  {
   "cell_type": "code",
   "execution_count": 7,
   "id": "fca77f9d-f805-4e47-af29-128764f092a1",
   "metadata": {
    "scrolled": true,
    "tags": []
   },
   "outputs": [
    {
     "name": "stdout",
     "output_type": "stream",
     "text": [
      "Reading miller_index from geometry.nxs\n",
      "  importing as MillerIndex from mdx2.geometry\n",
      "Reading image_series from data.nxs\n",
      "  importing as ImageSeries from mdx2.data\n",
      "Looping through chunks\n",
      "  binned chunk 0 from 1891042 to 11799 voxels\n",
      "  binned chunk 1 from 1891704 to 16089 voxels\n",
      "  binned chunk 2 from 1891701 to 18091 voxels\n",
      "  binned chunk 3 from 1891522 to 16321 voxels\n",
      "  binned chunk 4 from 1891069 to 12286 voxels\n",
      "  binned chunk 5 from 1890751 to 12084 voxels\n",
      "  binned chunk 6 from 1891722 to 16991 voxels\n",
      "  binned chunk 7 from 1891538 to 19162 voxels\n",
      "  binned chunk 8 from 1891323 to 17110 voxels\n",
      "  binned chunk 9 from 1891159 to 12590 voxels\n",
      "  binned chunk 10 from 1891123 to 11731 voxels\n",
      "  binned chunk 11 from 1891316 to 16922 voxels\n",
      "  binned chunk 12 from 1891533 to 19300 voxels\n",
      "  binned chunk 13 from 1891388 to 17004 voxels\n",
      "  binned chunk 14 from 1891623 to 12171 voxels\n",
      "  binned chunk 15 from 1891288 to 10482 voxels\n",
      "  binned chunk 16 from 1891766 to 15408 voxels\n",
      "  binned chunk 17 from 1891664 to 17729 voxels\n",
      "  binned chunk 18 from 1891496 to 15438 voxels\n",
      "  binned chunk 19 from 1891546 to 10828 voxels\n",
      "  binned chunk 20 from 1891670 to 8306 voxels\n",
      "  binned chunk 21 from 1891818 to 12166 voxels\n",
      "  binned chunk 22 from 1891454 to 14069 voxels\n",
      "  binned chunk 23 from 1891667 to 12286 voxels\n",
      "  binned chunk 24 from 1891782 to 8499 voxels\n",
      "  binned chunk 25 from 1891289 to 5480 voxels\n",
      "  binned chunk 26 from 1892435 to 7545 voxels\n",
      "  binned chunk 27 from 1788977 to 8316 voxels\n",
      "  binned chunk 28 from 1890515 to 7804 voxels\n",
      "  binned chunk 29 from 1891904 to 5445 voxels\n",
      "  binned chunk 30 from 1891975 to 5975 voxels\n",
      "  binned chunk 31 from 1891729 to 8464 voxels\n",
      "  binned chunk 32 from 1869527 to 10014 voxels\n",
      "  binned chunk 33 from 1891118 to 8926 voxels\n",
      "  binned chunk 34 from 1891948 to 6073 voxels\n",
      "  binned chunk 35 from 1891711 to 8609 voxels\n",
      "  binned chunk 36 from 1891318 to 12960 voxels\n",
      "  binned chunk 37 from 1891680 to 15720 voxels\n",
      "  binned chunk 38 from 1891440 to 13717 voxels\n",
      "  binned chunk 39 from 1891692 to 9134 voxels\n",
      "  binned chunk 40 from 1891726 to 10461 voxels\n",
      "  binned chunk 41 from 1891775 to 15818 voxels\n",
      "  binned chunk 42 from 1891925 to 19156 voxels\n",
      "  binned chunk 43 from 1891834 to 16818 voxels\n",
      "  binned chunk 44 from 1891748 to 11332 voxels\n",
      "  binned chunk 45 from 1892093 to 11480 voxels\n",
      "  binned chunk 46 from 1891753 to 17071 voxels\n",
      "  binned chunk 47 from 1891674 to 20314 voxels\n",
      "  binned chunk 48 from 1891936 to 18005 voxels\n",
      "  binned chunk 49 from 1891672 to 12504 voxels\n",
      "  binned chunk 50 from 1891604 to 11686 voxels\n",
      "  binned chunk 51 from 1891793 to 16901 voxels\n",
      "  binned chunk 52 from 1891718 to 19812 voxels\n",
      "  binned chunk 53 from 1891518 to 17811 voxels\n",
      "  binned chunk 54 from 1891529 to 12723 voxels\n",
      "  binned chunk 55 from 1891425 to 11361 voxels\n",
      "  binned chunk 56 from 1891332 to 15865 voxels\n",
      "  binned chunk 57 from 1891850 to 18219 voxels\n",
      "  binned chunk 58 from 1890958 to 16541 voxels\n",
      "  binned chunk 59 from 1890713 to 12323 voxels\n",
      "  binned chunk 60 from 1891137 to 11795 voxels\n",
      "  binned chunk 61 from 1891687 to 16058 voxels\n",
      "  binned chunk 62 from 1891701 to 18145 voxels\n",
      "  binned chunk 63 from 1891507 to 16361 voxels\n",
      "  binned chunk 64 from 1890891 to 12315 voxels\n",
      "  binned chunk 65 from 1890899 to 12080 voxels\n",
      "  binned chunk 66 from 1891657 to 16966 voxels\n",
      "  binned chunk 67 from 1892043 to 19254 voxels\n",
      "  binned chunk 68 from 1891606 to 17175 voxels\n",
      "  binned chunk 69 from 1891639 to 12629 voxels\n",
      "  binned chunk 70 from 1891139 to 11710 voxels\n",
      "  binned chunk 71 from 1891403 to 16905 voxels\n",
      "  binned chunk 72 from 1891447 to 19239 voxels\n",
      "  binned chunk 73 from 1891629 to 17007 voxels\n",
      "  binned chunk 74 from 1891599 to 12209 voxels\n",
      "  binned chunk 75 from 1891416 to 10493 voxels\n",
      "  binned chunk 76 from 1891664 to 15397 voxels\n",
      "  binned chunk 77 from 1891821 to 17616 voxels\n",
      "  binned chunk 78 from 1891871 to 15400 voxels\n",
      "  binned chunk 79 from 1891789 to 10819 voxels\n",
      "  binned chunk 80 from 1892166 to 8319 voxels\n",
      "  binned chunk 81 from 1891573 to 12150 voxels\n",
      "  binned chunk 82 from 1892135 to 14008 voxels\n",
      "  binned chunk 83 from 1891718 to 12210 voxels\n",
      "  binned chunk 84 from 1891917 to 8469 voxels\n",
      "  binned chunk 85 from 1890457 to 5483 voxels\n",
      "  binned chunk 86 from 1893194 to 7518 voxels\n",
      "  binned chunk 87 from 1790752 to 8265 voxels\n",
      "  binned chunk 88 from 1891259 to 7689 voxels\n",
      "  binned chunk 89 from 1889884 to 5397 voxels\n",
      "  binned chunk 90 from 1891076 to 6001 voxels\n",
      "  binned chunk 91 from 1891838 to 8453 voxels\n",
      "  binned chunk 92 from 1869440 to 9940 voxels\n",
      "  binned chunk 93 from 1891615 to 8871 voxels\n",
      "  binned chunk 94 from 1890986 to 6028 voxels\n",
      "  binned chunk 95 from 1891826 to 8624 voxels\n",
      "  binned chunk 96 from 1892483 to 12884 voxels\n",
      "  binned chunk 97 from 1891690 to 15652 voxels\n",
      "  binned chunk 98 from 1891652 to 13695 voxels\n",
      "  binned chunk 99 from 1891382 to 9121 voxels\n",
      "  binned chunk 100 from 1891725 to 10505 voxels\n",
      "  binned chunk 101 from 1891923 to 15803 voxels\n",
      "  binned chunk 102 from 1891857 to 19110 voxels\n",
      "  binned chunk 103 from 1891629 to 16793 voxels\n",
      "  binned chunk 104 from 1891579 to 11325 voxels\n",
      "  binned chunk 105 from 1891652 to 11511 voxels\n",
      "  binned chunk 106 from 1891920 to 17057 voxels\n",
      "  binned chunk 107 from 1891843 to 20324 voxels\n",
      "  binned chunk 108 from 1891789 to 18034 voxels\n",
      "  binned chunk 109 from 1891772 to 12521 voxels\n",
      "  binned chunk 110 from 1891667 to 11741 voxels\n",
      "  binned chunk 111 from 1891688 to 16937 voxels\n",
      "  binned chunk 112 from 1891725 to 19824 voxels\n",
      "  binned chunk 113 from 1892024 to 17752 voxels\n",
      "  binned chunk 114 from 1891325 to 12767 voxels\n",
      "  binned chunk 115 from 1891242 to 11380 voxels\n",
      "  binned chunk 116 from 1891380 to 15866 voxels\n",
      "  binned chunk 117 from 1891653 to 18283 voxels\n",
      "  binned chunk 118 from 1891143 to 16584 voxels\n",
      "  binned chunk 119 from 1891086 to 12267 voxels\n",
      "  binned chunk 120 from 1890691 to 11772 voxels\n",
      "  binned chunk 121 from 1891618 to 16044 voxels\n",
      "  binned chunk 122 from 1891662 to 18197 voxels\n",
      "  binned chunk 123 from 1891503 to 16400 voxels\n",
      "  binned chunk 124 from 1891093 to 12314 voxels\n",
      "  binned chunk 125 from 1890619 to 12079 voxels\n",
      "  binned chunk 126 from 1891819 to 16954 voxels\n",
      "  binned chunk 127 from 1891801 to 19265 voxels\n",
      "  binned chunk 128 from 1891493 to 17191 voxels\n",
      "  binned chunk 129 from 1891327 to 12633 voxels\n",
      "  binned chunk 130 from 1891049 to 11684 voxels\n",
      "  binned chunk 131 from 1891375 to 16854 voxels\n",
      "  binned chunk 132 from 1892224 to 19126 voxels\n",
      "  binned chunk 133 from 1892125 to 16929 voxels\n",
      "  binned chunk 134 from 1891504 to 12202 voxels\n",
      "  binned chunk 135 from 1891705 to 10451 voxels\n",
      "  binned chunk 136 from 1891731 to 15370 voxels\n",
      "  binned chunk 137 from 1891859 to 17574 voxels\n",
      "  binned chunk 138 from 1891799 to 15344 voxels\n",
      "  binned chunk 139 from 1891446 to 10854 voxels\n",
      "  binned chunk 140 from 1891654 to 8329 voxels\n",
      "  binned chunk 141 from 1891572 to 12110 voxels\n",
      "  binned chunk 142 from 1891721 to 13944 voxels\n",
      "  binned chunk 143 from 1891683 to 12099 voxels\n",
      "  binned chunk 144 from 1891896 to 8476 voxels\n",
      "  binned chunk 145 from 1891448 to 5491 voxels\n",
      "  binned chunk 146 from 1892111 to 7541 voxels\n",
      "  binned chunk 147 from 1789644 to 8195 voxels\n",
      "  binned chunk 148 from 1892299 to 7601 voxels\n",
      "  binned chunk 149 from 1893186 to 5403 voxels\n",
      "  binned chunk 150 from 1891345 to 6040 voxels\n",
      "  binned chunk 151 from 1891551 to 8456 voxels\n",
      "  binned chunk 152 from 1868886 to 9858 voxels\n",
      "  binned chunk 153 from 1891007 to 8792 voxels\n",
      "  binned chunk 154 from 1891810 to 5992 voxels\n",
      "  binned chunk 155 from 1891841 to 8662 voxels\n",
      "  binned chunk 156 from 1892356 to 12856 voxels\n",
      "  binned chunk 157 from 1891749 to 15604 voxels\n",
      "  binned chunk 158 from 1890761 to 13677 voxels\n",
      "  binned chunk 159 from 1892015 to 9104 voxels\n",
      "  binned chunk 160 from 1891609 to 10546 voxels\n",
      "  binned chunk 161 from 1891816 to 15791 voxels\n",
      "  binned chunk 162 from 1891753 to 19084 voxels\n",
      "  binned chunk 163 from 1891845 to 16778 voxels\n",
      "  binned chunk 164 from 1891465 to 11335 voxels\n",
      "  binned chunk 165 from 1891951 to 11546 voxels\n",
      "  binned chunk 166 from 1891846 to 17056 voxels\n",
      "  binned chunk 167 from 1891851 to 20338 voxels\n",
      "  binned chunk 168 from 1891456 to 18004 voxels\n",
      "  binned chunk 169 from 1891695 to 12500 voxels\n",
      "  binned chunk 170 from 1891795 to 11747 voxels\n",
      "  binned chunk 171 from 1891714 to 16923 voxels\n",
      "  binned chunk 172 from 1891798 to 19817 voxels\n",
      "  binned chunk 173 from 1891300 to 17873 voxels\n",
      "  binned chunk 174 from 1891496 to 12743 voxels\n",
      "  binned chunk 175 from 1891234 to 11396 voxels\n",
      "  binned chunk 176 from 1891254 to 15869 voxels\n",
      "  binned chunk 177 from 1891498 to 18234 voxels\n",
      "  binned chunk 178 from 1891276 to 16632 voxels\n",
      "  binned chunk 179 from 1890859 to 12307 voxels\n",
      "Summing partial observations over 180 chunks\n",
      "  binned from 2383965 to 2047443 voxels\n",
      "Saving table of integrated data to integrated.nxs\n",
      "Exporting <class 'mdx2.data.HKLTable'> to nexus object\n",
      "  writing hkl_table to integrated.nxs\n",
      "done!\n"
     ]
    }
   ],
   "source": [
    "!mdx2.integrate geometry.nxs data.nxs --mask mask.nxs --subdivide 4 4 4"
   ]
  },
  {
   "cell_type": "markdown",
   "id": "5efcb3bd-dd0d-4a95-bc62-8f8ffa123c58",
   "metadata": {},
   "source": [
    "### Integration statistics\n",
    "\n",
    "Integration produces a giant table indexed by fractional h,k,l values."
   ]
  },
  {
   "cell_type": "code",
   "execution_count": 10,
   "id": "730228a6-78f0-4bdf-95b1-5db7e182e711",
   "metadata": {},
   "outputs": [
    {
     "name": "stdout",
     "output_type": "stream",
     "text": [
      "Reading hkl_table from integrated.nxs\n",
      "  importing as HKLTable from mdx2.data\n"
     ]
    },
    {
     "data": {
      "text/html": [
       "<div>\n",
       "<style scoped>\n",
       "    .dataframe tbody tr th:only-of-type {\n",
       "        vertical-align: middle;\n",
       "    }\n",
       "\n",
       "    .dataframe tbody tr th {\n",
       "        vertical-align: top;\n",
       "    }\n",
       "\n",
       "    .dataframe thead th {\n",
       "        text-align: right;\n",
       "    }\n",
       "</style>\n",
       "<table border=\"1\" class=\"dataframe\">\n",
       "  <thead>\n",
       "    <tr style=\"text-align: right;\">\n",
       "      <th></th>\n",
       "      <th></th>\n",
       "      <th></th>\n",
       "      <th>counts</th>\n",
       "      <th>ix</th>\n",
       "      <th>iy</th>\n",
       "      <th>n</th>\n",
       "      <th>phi</th>\n",
       "      <th>pixels</th>\n",
       "      <th>seconds</th>\n",
       "    </tr>\n",
       "    <tr>\n",
       "      <th>h</th>\n",
       "      <th>k</th>\n",
       "      <th>l</th>\n",
       "      <th></th>\n",
       "      <th></th>\n",
       "      <th></th>\n",
       "      <th></th>\n",
       "      <th></th>\n",
       "      <th></th>\n",
       "      <th></th>\n",
       "    </tr>\n",
       "  </thead>\n",
       "  <tbody>\n",
       "    <tr>\n",
       "      <th rowspan=\"5\" valign=\"top\">-65.5</th>\n",
       "      <th rowspan=\"3\" valign=\"top\">-16.75</th>\n",
       "      <th>-9.75</th>\n",
       "      <td>2</td>\n",
       "      <td>0.333333</td>\n",
       "      <td>1.666667</td>\n",
       "      <td>0.0</td>\n",
       "      <td>160.449997</td>\n",
       "      <td>3</td>\n",
       "      <td>0.3</td>\n",
       "    </tr>\n",
       "    <tr>\n",
       "      <th>-9.50</th>\n",
       "      <td>12</td>\n",
       "      <td>0.869565</td>\n",
       "      <td>2.304348</td>\n",
       "      <td>0.0</td>\n",
       "      <td>160.250000</td>\n",
       "      <td>23</td>\n",
       "      <td>2.3</td>\n",
       "    </tr>\n",
       "    <tr>\n",
       "      <th>-9.25</th>\n",
       "      <td>15</td>\n",
       "      <td>1.892857</td>\n",
       "      <td>1.928571</td>\n",
       "      <td>0.0</td>\n",
       "      <td>160.078568</td>\n",
       "      <td>28</td>\n",
       "      <td>2.8</td>\n",
       "    </tr>\n",
       "    <tr>\n",
       "      <th rowspan=\"2\" valign=\"top\">-16.50</th>\n",
       "      <th>-9.50</th>\n",
       "      <td>5</td>\n",
       "      <td>0.000000</td>\n",
       "      <td>6.166667</td>\n",
       "      <td>0.0</td>\n",
       "      <td>160.183334</td>\n",
       "      <td>6</td>\n",
       "      <td>0.6</td>\n",
       "    </tr>\n",
       "    <tr>\n",
       "      <th>-9.25</th>\n",
       "      <td>3</td>\n",
       "      <td>0.285714</td>\n",
       "      <td>6.857143</td>\n",
       "      <td>0.0</td>\n",
       "      <td>160.050003</td>\n",
       "      <td>7</td>\n",
       "      <td>0.7</td>\n",
       "    </tr>\n",
       "  </tbody>\n",
       "</table>\n",
       "</div>"
      ],
      "text/plain": [
       "                    counts        ix        iy    n         phi  pixels  \\\n",
       "h     k      l                                                            \n",
       "-65.5 -16.75 -9.75       2  0.333333  1.666667  0.0  160.449997       3   \n",
       "             -9.50      12  0.869565  2.304348  0.0  160.250000      23   \n",
       "             -9.25      15  1.892857  1.928571  0.0  160.078568      28   \n",
       "      -16.50 -9.50       5  0.000000  6.166667  0.0  160.183334       6   \n",
       "             -9.25       3  0.285714  6.857143  0.0  160.050003       7   \n",
       "\n",
       "                    seconds  \n",
       "h     k      l               \n",
       "-65.5 -16.75 -9.75      0.3  \n",
       "             -9.50      2.3  \n",
       "             -9.25      2.8  \n",
       "      -16.50 -9.50      0.6  \n",
       "             -9.25      0.7  "
      ]
     },
     "execution_count": 10,
     "metadata": {},
     "output_type": "execute_result"
    }
   ],
   "source": [
    "# load the table\n",
    "tab = loadobj('integrated.nxs','hkl_table')\n",
    "\n",
    "# convert to pandas dataframe\n",
    "df = tab.to_frame().set_index(['h','k','l'])\n",
    "\n",
    "# show the first several entries\n",
    "df.head()"
   ]
  },
  {
   "cell_type": "markdown",
   "id": "476a9bd5-bb2f-4220-9af0-ef9ca8d21749",
   "metadata": {},
   "source": [
    "It is interesting to plot the number of observations as a function of spindle angle"
   ]
  },
  {
   "cell_type": "code",
   "execution_count": 12,
   "id": "b02150b7-fbdb-4871-94a4-2a8e7248438a",
   "metadata": {},
   "outputs": [
    {
     "data": {
      "image/png": "[encoded data removed]",
      "text/plain": [
       "<Figure size 432x288 with 1 Axes>"
      ]
     },
     "metadata": {
      "needs_background": "light"
     },
     "output_type": "display_data"
    }
   ],
   "source": [
    "df['phi'].plot.hist(bins=100);"
   ]
  },
  {
   "cell_type": "markdown",
   "id": "3d307895-30ea-42e3-bc94-53f27953ddde",
   "metadata": {},
   "source": [
    "<div class=\"alert alert-block alert-info\">\n",
    "    <b>Question:</b> Why are there more observations at the beginning and end of the scan? (hint: think about partial observations)\n",
    "</div>"
   ]
  },
  {
   "cell_type": "markdown",
   "id": "df5232d3-9ae0-46b3-8624-7a6bc14842a0",
   "metadata": {},
   "source": [
    "## 2) Corrections\n",
    "\n",
    "As explained in our 2020 Nature Communications paper , the intensity can be estimated as follows:\n",
    "\n",
    "$I_\\text{meas} = (r_\\text{crystal} - r_\\text{background})/(\\Delta\\Omega E A P)$\n",
    "\n",
    "Where:\n",
    "- $r_\\text{crystal} =$ observed count rate (photons per second)\n",
    "- $r_\\text{background} =$ estimated count rate from background sources\n",
    "- $\\Delta\\Omega =$ solid angle per pixel\n",
    "- $E =$ detection efficiency\n",
    "- $A =$ attenuation factor of air\n",
    "- $P =$ polarization factor\n",
    "\n",
    "*mdx2.correct* computes $I_\\text{meas}$ using this equation.\n",
    "\n",
    "Also, intensity errors are estimated using Poisson statistics:\n",
    "- $r_\\text{crystal} = N s^{-1}$ (counts per second)\n",
    "- $\\Delta r_\\text{crystal} = \\sqrt{N}s^{-1}$"
   ]
  },
  {
   "cell_type": "markdown",
   "id": "3e9b1642-211a-4aea-aaf9-ea6fc3825ca5",
   "metadata": {},
   "source": [
    "### *mdx2.correct*"
   ]
  },
  {
   "cell_type": "code",
   "execution_count": 14,
   "id": "3add1ba8-1ae3-4445-996e-f73e07bce08b",
   "metadata": {},
   "outputs": [
    {
     "name": "stdout",
     "output_type": "stream",
     "text": [
      "usage: mdx2.correct [-h] [--background BACKGROUND] [--attenuation TF]\n",
      "                    [--efficiency TF] [--polarization TF] [--outfile OUTFILE]\n",
      "                    geom hkl\n",
      "\n",
      "Apply corrections to integrated data\n",
      "\n",
      "positional arguments:\n",
      "  geom                  NeXus file with miller_index\n",
      "  hkl                   NeXus file with hkl_table\n",
      "\n",
      "optional arguments:\n",
      "  -h, --help            show this help message and exit\n",
      "  --background BACKGROUND\n",
      "                        NeXus file with background map (default: None)\n",
      "  --attenuation TF      apply attenuation correction? (default: True)\n",
      "  --efficiency TF       apply efficiency correction? (default: True)\n",
      "  --polarization TF     apply polarization correction? (default: True)\n",
      "  --outfile OUTFILE     name of the output NeXus file (default: corrected.nxs)\n"
     ]
    }
   ],
   "source": [
    "!mdx2.correct --help"
   ]
  },
  {
   "cell_type": "markdown",
   "id": "7c99861e-9895-40a4-8e39-283821d2bb5d",
   "metadata": {},
   "source": [
    "### Parameters\n",
    "\n",
    "The command line interface allows you to turn off certain corrections, such as background, attenuation, efficiency and polarization.\n",
    "\n",
    "We'll apply all of them for the tutorial dataset.\n",
    "\n",
    "For background count rate we'll use the binned image stack, so that the background subtraction does not add noise to the measurement."
   ]
  },
  {
   "cell_type": "code",
   "execution_count": 27,
   "id": "5533654f-fe6e-4a8a-b787-f7b6d4893c79",
   "metadata": {},
   "outputs": [
    {
     "name": "stdout",
     "output_type": "stream",
     "text": [
      "Reading hkl_table from integrated.nxs\n",
      "  importing as HKLTable from mdx2.data\n",
      "Reading corrections from geometry.nxs\n",
      "  importing as Corrections from mdx2.geometry\n",
      "Reading crystal from geometry.nxs\n",
      "  importing as Crystal from mdx2.geometry\n",
      "Reading symmetry from geometry.nxs\n",
      "  importing as Symmetry from mdx2.geometry\n",
      "calculating scattering vector magnitude (s)\n",
      "mapping Miller indices to the asymmetric unit\n",
      "Reading binned_image_series from bkg_data_binned.nxs\n",
      "  importing as GridData from mdx2.geometry\n",
      "subtracting background from count rate\n",
      "correcting solid angle for attenuation\n",
      "correcting solid angle for efficiency\n",
      "correcting solid angle for polarization\n",
      "computing the swept reciprocal space volume fraction (rs_volume)\n",
      "computing intensity and intensity_error\n",
      "Exporting <class 'mdx2.data.HKLTable'> to nexus object\n",
      "  writing hkl_table to corrected.nxs\n",
      "done!\n"
     ]
    }
   ],
   "source": [
    "!mdx2.correct geometry.nxs integrated.nxs --background bkg_data_binned.nxs"
   ]
  },
  {
   "cell_type": "markdown",
   "id": "38380182-9145-408b-b01f-e9d2b78b01d4",
   "metadata": {},
   "source": [
    "### Intensity statistics\n",
    "\n",
    "As before, we'll load the table as a pandas DataFrame.\n",
    "\n",
    "In addition to **intensity** and **intensity_error**, you'll notice there are some new columns.\n",
    "\n",
    "- **op** = index of the symmetry operator that mapped the observation point to the asymmetric unit\n",
    "- **h**, **k**, **l** = Miller indices mapped to the *asymmetric unit*\n",
    "- **s** = scattering vector magnitude (= 1/resolution)\n",
    "- **rs_volume** = volume of reciprocal space recorded as a fraction of the reciprocal unit cell\n",
    "\n",
    "In our case, a voxel that is \"fully recorded\" during the oscillation would have rs_volume = (1/4^3)"
   ]
  },
  {
   "cell_type": "code",
   "execution_count": 3,
   "id": "9f88a905-2664-4bc8-8f5d-655e55179cad",
   "metadata": {},
   "outputs": [
    {
     "name": "stdout",
     "output_type": "stream",
     "text": [
      "Reading hkl_table from corrected.nxs\n",
      "  importing as HKLTable from mdx2.data\n"
     ]
    },
    {
     "data": {
      "text/html": [
       "<div>\n",
       "<style scoped>\n",
       "    .dataframe tbody tr th:only-of-type {\n",
       "        vertical-align: middle;\n",
       "    }\n",
       "\n",
       "    .dataframe tbody tr th {\n",
       "        vertical-align: top;\n",
       "    }\n",
       "\n",
       "    .dataframe thead th {\n",
       "        text-align: right;\n",
       "    }\n",
       "</style>\n",
       "<table border=\"1\" class=\"dataframe\">\n",
       "  <thead>\n",
       "    <tr style=\"text-align: right;\">\n",
       "      <th></th>\n",
       "      <th></th>\n",
       "      <th></th>\n",
       "      <th></th>\n",
       "      <th></th>\n",
       "      <th>intensity</th>\n",
       "      <th>intensity_error</th>\n",
       "      <th>ix</th>\n",
       "      <th>iy</th>\n",
       "      <th>phi</th>\n",
       "      <th>rs_volume</th>\n",
       "      <th>s</th>\n",
       "    </tr>\n",
       "    <tr>\n",
       "      <th>h</th>\n",
       "      <th>k</th>\n",
       "      <th>l</th>\n",
       "      <th>op</th>\n",
       "      <th>n</th>\n",
       "      <th></th>\n",
       "      <th></th>\n",
       "      <th></th>\n",
       "      <th></th>\n",
       "      <th></th>\n",
       "      <th></th>\n",
       "      <th></th>\n",
       "    </tr>\n",
       "  </thead>\n",
       "  <tbody>\n",
       "    <tr>\n",
       "      <th rowspan=\"5\" valign=\"top\">0.0</th>\n",
       "      <th rowspan=\"5\" valign=\"top\">0.25</th>\n",
       "      <th>2.75</th>\n",
       "      <th>10</th>\n",
       "      <th>0</th>\n",
       "      <td>NaN</td>\n",
       "      <td>3458472.25</td>\n",
       "      <td>1222.937500</td>\n",
       "      <td>1211.979126</td>\n",
       "      <td>165.493744</td>\n",
       "      <td>0.000405</td>\n",
       "      <td>0.034724</td>\n",
       "    </tr>\n",
       "    <tr>\n",
       "      <th>3.00</th>\n",
       "      <th>10</th>\n",
       "      <th>0</th>\n",
       "      <td>NaN</td>\n",
       "      <td>4526965.50</td>\n",
       "      <td>1220.806396</td>\n",
       "      <td>1210.483887</td>\n",
       "      <td>165.672577</td>\n",
       "      <td>0.000274</td>\n",
       "      <td>0.037856</td>\n",
       "    </tr>\n",
       "    <tr>\n",
       "      <th>3.25</th>\n",
       "      <th>10</th>\n",
       "      <th>0</th>\n",
       "      <td>38040624.0</td>\n",
       "      <td>19222264.00</td>\n",
       "      <td>1218.000000</td>\n",
       "      <td>1209.000000</td>\n",
       "      <td>165.800003</td>\n",
       "      <td>0.000037</td>\n",
       "      <td>0.040990</td>\n",
       "    </tr>\n",
       "    <tr>\n",
       "      <th>19.75</th>\n",
       "      <th>10</th>\n",
       "      <th>0</th>\n",
       "      <td>55826468.0</td>\n",
       "      <td>25134906.00</td>\n",
       "      <td>958.000000</td>\n",
       "      <td>1023.750000</td>\n",
       "      <td>165.949997</td>\n",
       "      <td>0.000209</td>\n",
       "      <td>0.248377</td>\n",
       "    </tr>\n",
       "    <tr>\n",
       "      <th>20.00</th>\n",
       "      <th>10</th>\n",
       "      <th>0</th>\n",
       "      <td>54929968.0</td>\n",
       "      <td>11178633.00</td>\n",
       "      <td>954.549988</td>\n",
       "      <td>1021.049988</td>\n",
       "      <td>165.904999</td>\n",
       "      <td>0.001056</td>\n",
       "      <td>0.251520</td>\n",
       "    </tr>\n",
       "  </tbody>\n",
       "</table>\n",
       "</div>"
      ],
      "text/plain": [
       "                      intensity  intensity_error           ix           iy  \\\n",
       "h   k    l     op n                                                          \n",
       "0.0 0.25 2.75  10 0         NaN       3458472.25  1222.937500  1211.979126   \n",
       "         3.00  10 0         NaN       4526965.50  1220.806396  1210.483887   \n",
       "         3.25  10 0  38040624.0      19222264.00  1218.000000  1209.000000   \n",
       "         19.75 10 0  55826468.0      25134906.00   958.000000  1023.750000   \n",
       "         20.00 10 0  54929968.0      11178633.00   954.549988  1021.049988   \n",
       "\n",
       "                            phi  rs_volume         s  \n",
       "h   k    l     op n                                   \n",
       "0.0 0.25 2.75  10 0  165.493744   0.000405  0.034724  \n",
       "         3.00  10 0  165.672577   0.000274  0.037856  \n",
       "         3.25  10 0  165.800003   0.000037  0.040990  \n",
       "         19.75 10 0  165.949997   0.000209  0.248377  \n",
       "         20.00 10 0  165.904999   0.001056  0.251520  "
      ]
     },
     "execution_count": 3,
     "metadata": {},
     "output_type": "execute_result"
    }
   ],
   "source": [
    "# load table as mdx2 object\n",
    "tab = loadobj('corrected.nxs','hkl_table')\n",
    "\n",
    "# convert to pandas DataFrame\n",
    "df = tab.to_frame().set_index(['h','k','l','op','n']).sort_index()\n",
    "\n",
    "# show the first several rows\n",
    "df.head()"
   ]
  },
  {
   "cell_type": "code",
   "execution_count": 4,
   "id": "d4895509-f55b-4e8c-9bca-82f58eb43ad5",
   "metadata": {},
   "outputs": [
    {
     "data": {
      "image/png": "[encoded data removed]",
      "text/plain": [
       "<Figure size 432x288 with 1 Axes>"
      ]
     },
     "metadata": {
      "needs_background": "light"
     },
     "output_type": "display_data"
    }
   ],
   "source": [
    "# plot intensity histogram\n",
    "df['intensity'].plot.hist(bins=np.linspace(0,2E8));"
   ]
  },
  {
   "cell_type": "code",
   "execution_count": 5,
   "id": "3f607461-5aec-45fe-aad7-45c21780e091",
   "metadata": {},
   "outputs": [
    {
     "data": {
      "image/png": "[encoded data removed]",
      "text/plain": [
       "<Figure size 432x288 with 1 Axes>"
      ]
     },
     "metadata": {
      "needs_background": "light"
     },
     "output_type": "display_data"
    }
   ],
   "source": [
    "# plot fractional reciprocal space volume per observation\n",
    "df['rs_volume'].plot.hist(bins=100);"
   ]
  },
  {
   "cell_type": "code",
   "execution_count": 31,
   "id": "0b14ac07-154e-4159-9047-683b37b08bf2",
   "metadata": {},
   "outputs": [
    {
     "data": {
      "text/plain": [
       "0.015625"
      ]
     },
     "execution_count": 31,
     "metadata": {},
     "output_type": "execute_result"
    }
   ],
   "source": [
    "# fractional volume of one voxel\n",
    "1/4**3 # --subdivide 4 4 4"
   ]
  },
  {
   "cell_type": "code",
   "execution_count": 24,
   "id": "419020e4-372a-4a5e-a764-79ab272b9a18",
   "metadata": {},
   "outputs": [
    {
     "data": {
      "image/png": "[encoded data removed]",
      "text/plain": [
       "<Figure size 432x288 with 1 Axes>"
      ]
     },
     "metadata": {
      "needs_background": "light"
     },
     "output_type": "display_data"
    }
   ],
   "source": [
    "# redundancy of observations\n",
    "c = df.groupby(['h','k','l'])['phi'].count().value_counts().sort_index()\n",
    "c[c>1000].plot.bar();"
   ]
  },
  {
   "cell_type": "markdown",
   "id": "6a7e8226-2d36-4d81-ae54-7258d4ef05b3",
   "metadata": {},
   "source": [
    "<div class=\"alert alert-block alert-info\">\n",
    "    <b>Tip:</b> For more examples of using pandas to compute statistics, see the advanced python notebook (tutorial 6).\n",
    "</div >"
   ]
  },
  {
   "cell_type": "markdown",
   "id": "30a363f7-f4a4-428c-9d00-1c7db086f26d",
   "metadata": {},
   "source": [
    "## Next steps\n",
    "\n",
    "In order to make a reciprocal space map, we need to place all of the observations on the same scale and merge them. That will be the topic of the next tutorial in this series.\n",
    "\n",
    "However, so far we've only processed 6 degrees of data (out of 50 total). As you can see from the bar plot above, most observations are unique. So there will not be enough redundant data to refine the scaling model. And the merged dataset will also be incomplete.\n",
    "\n",
    "To proceed, you have 2 options (choose depending on your interest and time available):\n",
    "\n",
    "<div class=\"alert alert-block alert-warning\">\n",
    "    <b>Option 1:</b> Re-run the tutorial notebooks 3-4 using the full dataset (refined.expt). This will take approximately 30 minutes to run. You can skip ahead and do tutorial 6 while you wait.\n",
    "</div>\n",
    "\n",
    "<div class=\"alert alert-block alert-warning\">\n",
    "    <b>Option 2:</b> Proceed to tutorial 5 using the corrected.nxs that was included in the GitHub release (this was pre-processed with the full 50 degrees of data).\n",
    "</div>"
   ]
  },
  {
   "cell_type": "code",
   "execution_count": null,
   "id": "dc8b59a5-b59b-461d-96de-dd714bbb7f13",
   "metadata": {},
   "outputs": [],
   "source": []
  }
 ],
 "metadata": {
  "kernelspec": {
   "display_name": "Python 3 (ipykernel)",
   "language": "python",
   "name": "python3"
  },
  "language_info": {
   "codemirror_mode": {
    "name": "ipython",
    "version": 3
   },
   "file_extension": ".py",
   "mimetype": "text/x-python",
   "name": "python",
   "nbconvert_exporter": "python",
   "pygments_lexer": "ipython3",
   "version": "3.9.12"
  }
 },
 "nbformat": 4,
 "nbformat_minor": 5
}
