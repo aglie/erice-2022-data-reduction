{
 "cells": [
  {
   "cell_type": "markdown",
   "id": "09e8bfd5-a08a-4b6a-9480-3707502a902c",
   "metadata": {},
   "source": [
    "# Diffuse scattering integration with *mdx2*"
   ]
  },
  {
   "cell_type": "code",
   "execution_count": null,
   "id": "bd597362-9451-436e-a268-ac7421674cb4",
   "metadata": {},
   "outputs": [],
   "source": []
  }
 ],
 "metadata": {
  "kernelspec": {
   "display_name": "Python 3 (ipykernel)",
   "language": "python",
   "name": "python3"
  },
  "language_info": {
   "codemirror_mode": {
    "name": "ipython",
    "version": 3
   },
   "file_extension": ".py",
   "mimetype": "text/x-python",
   "name": "python",
   "nbconvert_exporter": "python",
   "pygments_lexer": "ipython3",
   "version": "3.9.12"
  }
 },
 "nbformat": 4,
 "nbformat_minor": 5
}
